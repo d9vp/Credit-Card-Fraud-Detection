{
 "cells": [
  {
   "cell_type": "markdown",
   "id": "3cdeabd0",
   "metadata": {},
   "source": [
    "### EDA "
   ]
  },
  {
   "cell_type": "code",
   "execution_count": 1,
   "id": "7004d957",
   "metadata": {},
   "outputs": [],
   "source": [
    "# Importing the libraries\n",
    "import numpy as np\n",
    "import matplotlib.pyplot as plt\n",
    "import pandas as pd"
   ]
  },
  {
   "cell_type": "code",
   "execution_count": 2,
   "id": "fea47cbb",
   "metadata": {
    "scrolled": true
   },
   "outputs": [
    {
     "data": {
      "text/html": [
       "<div>\n",
       "<style scoped>\n",
       "    .dataframe tbody tr th:only-of-type {\n",
       "        vertical-align: middle;\n",
       "    }\n",
       "\n",
       "    .dataframe tbody tr th {\n",
       "        vertical-align: top;\n",
       "    }\n",
       "\n",
       "    .dataframe thead th {\n",
       "        text-align: right;\n",
       "    }\n",
       "</style>\n",
       "<table border=\"1\" class=\"dataframe\">\n",
       "  <thead>\n",
       "    <tr style=\"text-align: right;\">\n",
       "      <th></th>\n",
       "      <th>step</th>\n",
       "      <th>type</th>\n",
       "      <th>amount</th>\n",
       "      <th>nameOrig</th>\n",
       "      <th>oldbalanceOrg</th>\n",
       "      <th>newbalanceOrig</th>\n",
       "      <th>nameDest</th>\n",
       "      <th>oldbalanceDest</th>\n",
       "      <th>newbalanceDest</th>\n",
       "      <th>isFraud</th>\n",
       "      <th>isFlaggedFraud</th>\n",
       "    </tr>\n",
       "  </thead>\n",
       "  <tbody>\n",
       "    <tr>\n",
       "      <th>0</th>\n",
       "      <td>1</td>\n",
       "      <td>PAYMENT</td>\n",
       "      <td>9839.64</td>\n",
       "      <td>C1231006815</td>\n",
       "      <td>170136.0</td>\n",
       "      <td>160296.36</td>\n",
       "      <td>M1979787155</td>\n",
       "      <td>0.0</td>\n",
       "      <td>0.0</td>\n",
       "      <td>0</td>\n",
       "      <td>0</td>\n",
       "    </tr>\n",
       "    <tr>\n",
       "      <th>1</th>\n",
       "      <td>1</td>\n",
       "      <td>PAYMENT</td>\n",
       "      <td>1864.28</td>\n",
       "      <td>C1666544295</td>\n",
       "      <td>21249.0</td>\n",
       "      <td>19384.72</td>\n",
       "      <td>M2044282225</td>\n",
       "      <td>0.0</td>\n",
       "      <td>0.0</td>\n",
       "      <td>0</td>\n",
       "      <td>0</td>\n",
       "    </tr>\n",
       "    <tr>\n",
       "      <th>2</th>\n",
       "      <td>1</td>\n",
       "      <td>TRANSFER</td>\n",
       "      <td>181.00</td>\n",
       "      <td>C1305486145</td>\n",
       "      <td>181.0</td>\n",
       "      <td>0.00</td>\n",
       "      <td>C553264065</td>\n",
       "      <td>0.0</td>\n",
       "      <td>0.0</td>\n",
       "      <td>1</td>\n",
       "      <td>0</td>\n",
       "    </tr>\n",
       "    <tr>\n",
       "      <th>3</th>\n",
       "      <td>1</td>\n",
       "      <td>CASH_OUT</td>\n",
       "      <td>181.00</td>\n",
       "      <td>C840083671</td>\n",
       "      <td>181.0</td>\n",
       "      <td>0.00</td>\n",
       "      <td>C38997010</td>\n",
       "      <td>21182.0</td>\n",
       "      <td>0.0</td>\n",
       "      <td>1</td>\n",
       "      <td>0</td>\n",
       "    </tr>\n",
       "    <tr>\n",
       "      <th>4</th>\n",
       "      <td>1</td>\n",
       "      <td>PAYMENT</td>\n",
       "      <td>11668.14</td>\n",
       "      <td>C2048537720</td>\n",
       "      <td>41554.0</td>\n",
       "      <td>29885.86</td>\n",
       "      <td>M1230701703</td>\n",
       "      <td>0.0</td>\n",
       "      <td>0.0</td>\n",
       "      <td>0</td>\n",
       "      <td>0</td>\n",
       "    </tr>\n",
       "  </tbody>\n",
       "</table>\n",
       "</div>"
      ],
      "text/plain": [
       "   step      type    amount     nameOrig  oldbalanceOrg  newbalanceOrig  \\\n",
       "0     1   PAYMENT   9839.64  C1231006815       170136.0       160296.36   \n",
       "1     1   PAYMENT   1864.28  C1666544295        21249.0        19384.72   \n",
       "2     1  TRANSFER    181.00  C1305486145          181.0            0.00   \n",
       "3     1  CASH_OUT    181.00   C840083671          181.0            0.00   \n",
       "4     1   PAYMENT  11668.14  C2048537720        41554.0        29885.86   \n",
       "\n",
       "      nameDest  oldbalanceDest  newbalanceDest  isFraud  isFlaggedFraud  \n",
       "0  M1979787155             0.0             0.0        0               0  \n",
       "1  M2044282225             0.0             0.0        0               0  \n",
       "2   C553264065             0.0             0.0        1               0  \n",
       "3    C38997010         21182.0             0.0        1               0  \n",
       "4  M1230701703             0.0             0.0        0               0  "
      ]
     },
     "execution_count": 2,
     "metadata": {},
     "output_type": "execute_result"
    }
   ],
   "source": [
    "# Importing the dataset\n",
    "dataset = pd.read_csv('AIML Dataset.csv')\n",
    "dataset.head()"
   ]
  },
  {
   "cell_type": "code",
   "execution_count": 3,
   "id": "15eca190",
   "metadata": {},
   "outputs": [
    {
     "data": {
      "text/plain": [
       "(6362620, 11)"
      ]
     },
     "execution_count": 3,
     "metadata": {},
     "output_type": "execute_result"
    }
   ],
   "source": [
    "dataset.shape"
   ]
  },
  {
   "cell_type": "code",
   "execution_count": 4,
   "id": "ba722fd6",
   "metadata": {},
   "outputs": [
    {
     "data": {
      "text/plain": [
       "Index(['step', 'type', 'amount', 'nameOrig', 'oldbalanceOrg', 'newbalanceOrig',\n",
       "       'nameDest', 'oldbalanceDest', 'newbalanceDest', 'isFraud',\n",
       "       'isFlaggedFraud'],\n",
       "      dtype='object')"
      ]
     },
     "execution_count": 4,
     "metadata": {},
     "output_type": "execute_result"
    }
   ],
   "source": [
    "dataset.columns"
   ]
  },
  {
   "cell_type": "code",
   "execution_count": 5,
   "id": "a1667e8e",
   "metadata": {},
   "outputs": [
    {
     "data": {
      "text/plain": [
       "False"
      ]
     },
     "execution_count": 5,
     "metadata": {},
     "output_type": "execute_result"
    }
   ],
   "source": [
    "# Used to find if dataset has any missing values\n",
    "dataset.isna().sum().any()"
   ]
  },
  {
   "cell_type": "code",
   "execution_count": 6,
   "id": "4d64f619",
   "metadata": {},
   "outputs": [
    {
     "name": "stdout",
     "output_type": "stream",
     "text": [
      "<class 'pandas.core.frame.DataFrame'>\n",
      "RangeIndex: 6362620 entries, 0 to 6362619\n",
      "Data columns (total 11 columns):\n",
      " #   Column          Dtype  \n",
      "---  ------          -----  \n",
      " 0   step            int64  \n",
      " 1   type            object \n",
      " 2   amount          float64\n",
      " 3   nameOrig        object \n",
      " 4   oldbalanceOrg   float64\n",
      " 5   newbalanceOrig  float64\n",
      " 6   nameDest        object \n",
      " 7   oldbalanceDest  float64\n",
      " 8   newbalanceDest  float64\n",
      " 9   isFraud         int64  \n",
      " 10  isFlaggedFraud  int64  \n",
      "dtypes: float64(5), int64(3), object(3)\n",
      "memory usage: 534.0+ MB\n"
     ]
    }
   ],
   "source": [
    "dataset.info()"
   ]
  },
  {
   "cell_type": "code",
   "execution_count": 7,
   "id": "8634cb35",
   "metadata": {},
   "outputs": [
    {
     "data": {
      "text/html": [
       "<div>\n",
       "<style scoped>\n",
       "    .dataframe tbody tr th:only-of-type {\n",
       "        vertical-align: middle;\n",
       "    }\n",
       "\n",
       "    .dataframe tbody tr th {\n",
       "        vertical-align: top;\n",
       "    }\n",
       "\n",
       "    .dataframe thead th {\n",
       "        text-align: right;\n",
       "    }\n",
       "</style>\n",
       "<table border=\"1\" class=\"dataframe\">\n",
       "  <thead>\n",
       "    <tr style=\"text-align: right;\">\n",
       "      <th></th>\n",
       "      <th>step</th>\n",
       "      <th>amount</th>\n",
       "      <th>oldbalanceOrg</th>\n",
       "      <th>newbalanceOrig</th>\n",
       "      <th>oldbalanceDest</th>\n",
       "      <th>newbalanceDest</th>\n",
       "      <th>isFraud</th>\n",
       "      <th>isFlaggedFraud</th>\n",
       "    </tr>\n",
       "  </thead>\n",
       "  <tbody>\n",
       "    <tr>\n",
       "      <th>count</th>\n",
       "      <td>6.362620e+06</td>\n",
       "      <td>6.362620e+06</td>\n",
       "      <td>6.362620e+06</td>\n",
       "      <td>6.362620e+06</td>\n",
       "      <td>6.362620e+06</td>\n",
       "      <td>6.362620e+06</td>\n",
       "      <td>6.362620e+06</td>\n",
       "      <td>6.362620e+06</td>\n",
       "    </tr>\n",
       "    <tr>\n",
       "      <th>mean</th>\n",
       "      <td>2.433972e+02</td>\n",
       "      <td>1.798619e+05</td>\n",
       "      <td>8.338831e+05</td>\n",
       "      <td>8.551137e+05</td>\n",
       "      <td>1.100702e+06</td>\n",
       "      <td>1.224996e+06</td>\n",
       "      <td>1.290820e-03</td>\n",
       "      <td>2.514687e-06</td>\n",
       "    </tr>\n",
       "    <tr>\n",
       "      <th>std</th>\n",
       "      <td>1.423320e+02</td>\n",
       "      <td>6.038582e+05</td>\n",
       "      <td>2.888243e+06</td>\n",
       "      <td>2.924049e+06</td>\n",
       "      <td>3.399180e+06</td>\n",
       "      <td>3.674129e+06</td>\n",
       "      <td>3.590480e-02</td>\n",
       "      <td>1.585775e-03</td>\n",
       "    </tr>\n",
       "    <tr>\n",
       "      <th>min</th>\n",
       "      <td>1.000000e+00</td>\n",
       "      <td>0.000000e+00</td>\n",
       "      <td>0.000000e+00</td>\n",
       "      <td>0.000000e+00</td>\n",
       "      <td>0.000000e+00</td>\n",
       "      <td>0.000000e+00</td>\n",
       "      <td>0.000000e+00</td>\n",
       "      <td>0.000000e+00</td>\n",
       "    </tr>\n",
       "    <tr>\n",
       "      <th>25%</th>\n",
       "      <td>1.560000e+02</td>\n",
       "      <td>1.338957e+04</td>\n",
       "      <td>0.000000e+00</td>\n",
       "      <td>0.000000e+00</td>\n",
       "      <td>0.000000e+00</td>\n",
       "      <td>0.000000e+00</td>\n",
       "      <td>0.000000e+00</td>\n",
       "      <td>0.000000e+00</td>\n",
       "    </tr>\n",
       "    <tr>\n",
       "      <th>50%</th>\n",
       "      <td>2.390000e+02</td>\n",
       "      <td>7.487194e+04</td>\n",
       "      <td>1.420800e+04</td>\n",
       "      <td>0.000000e+00</td>\n",
       "      <td>1.327057e+05</td>\n",
       "      <td>2.146614e+05</td>\n",
       "      <td>0.000000e+00</td>\n",
       "      <td>0.000000e+00</td>\n",
       "    </tr>\n",
       "    <tr>\n",
       "      <th>75%</th>\n",
       "      <td>3.350000e+02</td>\n",
       "      <td>2.087215e+05</td>\n",
       "      <td>1.073152e+05</td>\n",
       "      <td>1.442584e+05</td>\n",
       "      <td>9.430367e+05</td>\n",
       "      <td>1.111909e+06</td>\n",
       "      <td>0.000000e+00</td>\n",
       "      <td>0.000000e+00</td>\n",
       "    </tr>\n",
       "    <tr>\n",
       "      <th>max</th>\n",
       "      <td>7.430000e+02</td>\n",
       "      <td>9.244552e+07</td>\n",
       "      <td>5.958504e+07</td>\n",
       "      <td>4.958504e+07</td>\n",
       "      <td>3.560159e+08</td>\n",
       "      <td>3.561793e+08</td>\n",
       "      <td>1.000000e+00</td>\n",
       "      <td>1.000000e+00</td>\n",
       "    </tr>\n",
       "  </tbody>\n",
       "</table>\n",
       "</div>"
      ],
      "text/plain": [
       "               step        amount  oldbalanceOrg  newbalanceOrig  \\\n",
       "count  6.362620e+06  6.362620e+06   6.362620e+06    6.362620e+06   \n",
       "mean   2.433972e+02  1.798619e+05   8.338831e+05    8.551137e+05   \n",
       "std    1.423320e+02  6.038582e+05   2.888243e+06    2.924049e+06   \n",
       "min    1.000000e+00  0.000000e+00   0.000000e+00    0.000000e+00   \n",
       "25%    1.560000e+02  1.338957e+04   0.000000e+00    0.000000e+00   \n",
       "50%    2.390000e+02  7.487194e+04   1.420800e+04    0.000000e+00   \n",
       "75%    3.350000e+02  2.087215e+05   1.073152e+05    1.442584e+05   \n",
       "max    7.430000e+02  9.244552e+07   5.958504e+07    4.958504e+07   \n",
       "\n",
       "       oldbalanceDest  newbalanceDest       isFraud  isFlaggedFraud  \n",
       "count    6.362620e+06    6.362620e+06  6.362620e+06    6.362620e+06  \n",
       "mean     1.100702e+06    1.224996e+06  1.290820e-03    2.514687e-06  \n",
       "std      3.399180e+06    3.674129e+06  3.590480e-02    1.585775e-03  \n",
       "min      0.000000e+00    0.000000e+00  0.000000e+00    0.000000e+00  \n",
       "25%      0.000000e+00    0.000000e+00  0.000000e+00    0.000000e+00  \n",
       "50%      1.327057e+05    2.146614e+05  0.000000e+00    0.000000e+00  \n",
       "75%      9.430367e+05    1.111909e+06  0.000000e+00    0.000000e+00  \n",
       "max      3.560159e+08    3.561793e+08  1.000000e+00    1.000000e+00  "
      ]
     },
     "execution_count": 7,
     "metadata": {},
     "output_type": "execute_result"
    }
   ],
   "source": [
    "dataset.describe()"
   ]
  },
  {
   "cell_type": "code",
   "execution_count": 8,
   "id": "0922499f",
   "metadata": {},
   "outputs": [
    {
     "data": {
      "text/plain": [
       "0    6354407\n",
       "1       8213\n",
       "Name: isFraud, dtype: int64"
      ]
     },
     "execution_count": 8,
     "metadata": {},
     "output_type": "execute_result"
    }
   ],
   "source": [
    "dataset.isFraud.value_counts()"
   ]
  },
  {
   "cell_type": "code",
   "execution_count": 9,
   "id": "eb8563fe",
   "metadata": {},
   "outputs": [
    {
     "data": {
      "text/plain": [
       "CASH_OUT    2237500\n",
       "PAYMENT     2151495\n",
       "CASH_IN     1399284\n",
       "TRANSFER     532909\n",
       "DEBIT         41432\n",
       "Name: type, dtype: int64"
      ]
     },
     "execution_count": 9,
     "metadata": {},
     "output_type": "execute_result"
    }
   ],
   "source": [
    "dataset.type.value_counts()"
   ]
  },
  {
   "cell_type": "code",
   "execution_count": 10,
   "id": "03f37de7",
   "metadata": {},
   "outputs": [
    {
     "name": "stdout",
     "output_type": "stream",
     "text": [
      "Tran. Type\tNo of Frauds\n",
      "Cash-Out\t 4116\n",
      "Payment \t 0\n",
      "Cash-in \t 0\n",
      "Transfer \t 4097\n",
      "Debit \t         0\n"
     ]
    }
   ],
   "source": [
    "# Finding which categories have most frauds\n",
    "dfFraudCash_Out = dataset.loc[(dataset.isFraud == 1) & (dataset.type == 'CASH_OUT')]\n",
    "dfFraudPayment = dataset.loc[(dataset.isFraud == 1) & (dataset.type == 'PAYMENT')]\n",
    "dfFraudCash_in = dataset.loc[(dataset.isFraud == 1) & (dataset.type == 'CASH_IN')]\n",
    "dfFraudTransfer = dataset.loc[(dataset.isFraud == 1) & (dataset.type == 'TRANSFER')]\n",
    "dfFraudDebit = dataset.loc[(dataset.isFraud == 1) & (dataset.type == 'DEBIT')]\n",
    "print(\"Tran. Type\\tNo of Frauds\")\n",
    "print(f\"Cash-Out\\t {len(dfFraudCash_Out)}\")\n",
    "print(f\"Payment \\t {len(dfFraudPayment)}\")\n",
    "print(f\"Cash-in \\t {len(dfFraudCash_in)}\")\n",
    "print(f\"Transfer \\t {len(dfFraudTransfer)}\")\n",
    "print(f\"Debit \\t         {len(dfFraudDebit)}\")"
   ]
  },
  {
   "cell_type": "code",
   "execution_count": 11,
   "id": "2b178ee2",
   "metadata": {},
   "outputs": [
    {
     "data": {
      "text/html": [
       "<div>\n",
       "<style scoped>\n",
       "    .dataframe tbody tr th:only-of-type {\n",
       "        vertical-align: middle;\n",
       "    }\n",
       "\n",
       "    .dataframe tbody tr th {\n",
       "        vertical-align: top;\n",
       "    }\n",
       "\n",
       "    .dataframe thead th {\n",
       "        text-align: right;\n",
       "    }\n",
       "</style>\n",
       "<table border=\"1\" class=\"dataframe\">\n",
       "  <thead>\n",
       "    <tr style=\"text-align: right;\">\n",
       "      <th></th>\n",
       "      <th>step</th>\n",
       "      <th>type</th>\n",
       "      <th>amount</th>\n",
       "      <th>nameOrig</th>\n",
       "      <th>oldbalanceOrg</th>\n",
       "      <th>newbalanceOrig</th>\n",
       "      <th>nameDest</th>\n",
       "      <th>oldbalanceDest</th>\n",
       "      <th>newbalanceDest</th>\n",
       "      <th>isFraud</th>\n",
       "      <th>isFlaggedFraud</th>\n",
       "    </tr>\n",
       "  </thead>\n",
       "  <tbody>\n",
       "    <tr>\n",
       "      <th>2</th>\n",
       "      <td>1</td>\n",
       "      <td>TRANSFER</td>\n",
       "      <td>181.00</td>\n",
       "      <td>C1305486145</td>\n",
       "      <td>181.00</td>\n",
       "      <td>0.0</td>\n",
       "      <td>C553264065</td>\n",
       "      <td>0.0</td>\n",
       "      <td>0.0</td>\n",
       "      <td>1</td>\n",
       "      <td>0</td>\n",
       "    </tr>\n",
       "    <tr>\n",
       "      <th>251</th>\n",
       "      <td>1</td>\n",
       "      <td>TRANSFER</td>\n",
       "      <td>2806.00</td>\n",
       "      <td>C1420196421</td>\n",
       "      <td>2806.00</td>\n",
       "      <td>0.0</td>\n",
       "      <td>C972765878</td>\n",
       "      <td>0.0</td>\n",
       "      <td>0.0</td>\n",
       "      <td>1</td>\n",
       "      <td>0</td>\n",
       "    </tr>\n",
       "    <tr>\n",
       "      <th>680</th>\n",
       "      <td>1</td>\n",
       "      <td>TRANSFER</td>\n",
       "      <td>20128.00</td>\n",
       "      <td>C137533655</td>\n",
       "      <td>20128.00</td>\n",
       "      <td>0.0</td>\n",
       "      <td>C1848415041</td>\n",
       "      <td>0.0</td>\n",
       "      <td>0.0</td>\n",
       "      <td>1</td>\n",
       "      <td>0</td>\n",
       "    </tr>\n",
       "    <tr>\n",
       "      <th>969</th>\n",
       "      <td>1</td>\n",
       "      <td>TRANSFER</td>\n",
       "      <td>1277212.77</td>\n",
       "      <td>C1334405552</td>\n",
       "      <td>1277212.77</td>\n",
       "      <td>0.0</td>\n",
       "      <td>C431687661</td>\n",
       "      <td>0.0</td>\n",
       "      <td>0.0</td>\n",
       "      <td>1</td>\n",
       "      <td>0</td>\n",
       "    </tr>\n",
       "    <tr>\n",
       "      <th>1115</th>\n",
       "      <td>1</td>\n",
       "      <td>TRANSFER</td>\n",
       "      <td>35063.63</td>\n",
       "      <td>C1364127192</td>\n",
       "      <td>35063.63</td>\n",
       "      <td>0.0</td>\n",
       "      <td>C1136419747</td>\n",
       "      <td>0.0</td>\n",
       "      <td>0.0</td>\n",
       "      <td>1</td>\n",
       "      <td>0</td>\n",
       "    </tr>\n",
       "  </tbody>\n",
       "</table>\n",
       "</div>"
      ],
      "text/plain": [
       "      step      type      amount     nameOrig  oldbalanceOrg  newbalanceOrig  \\\n",
       "2        1  TRANSFER      181.00  C1305486145         181.00             0.0   \n",
       "251      1  TRANSFER     2806.00  C1420196421        2806.00             0.0   \n",
       "680      1  TRANSFER    20128.00   C137533655       20128.00             0.0   \n",
       "969      1  TRANSFER  1277212.77  C1334405552     1277212.77             0.0   \n",
       "1115     1  TRANSFER    35063.63  C1364127192       35063.63             0.0   \n",
       "\n",
       "         nameDest  oldbalanceDest  newbalanceDest  isFraud  isFlaggedFraud  \n",
       "2      C553264065             0.0             0.0        1               0  \n",
       "251    C972765878             0.0             0.0        1               0  \n",
       "680   C1848415041             0.0             0.0        1               0  \n",
       "969    C431687661             0.0             0.0        1               0  \n",
       "1115  C1136419747             0.0             0.0        1               0  "
      ]
     },
     "execution_count": 11,
     "metadata": {},
     "output_type": "execute_result"
    }
   ],
   "source": [
    "# we will be taking only these types into our data for analysis as they are the only one which have fraudulent transactions\n",
    "fraud_cashout = dataset.loc[(dataset.isFraud == 1) & (dataset['type'] == 'CASH_OUT')]\n",
    "fraud_transfer = dataset.loc[(dataset.isFraud == 1) & (dataset['type'] == 'TRANSFER')]\n",
    "\n",
    "fraud_cashout.head()\n",
    "fraud_transfer.head()"
   ]
  },
  {
   "cell_type": "code",
   "execution_count": 12,
   "id": "ec27110e",
   "metadata": {},
   "outputs": [
    {
     "name": "stdout",
     "output_type": "stream",
     "text": [
      "2233384\n",
      "528812\n"
     ]
    }
   ],
   "source": [
    "# finding how many not fraudulent transactions cash out and transfers have\n",
    "dfnotFraudCash_Out = dataset.loc[(dataset.isFraud == 0) & (dataset.type == 'CASH_OUT')]\n",
    "dfnotFraudTransfer = dataset.loc[(dataset.isFraud == 0) & (dataset.type == 'TRANSFER')]\n",
    "\n",
    "print(len(dfnotFraudCash_Out))\n",
    "print(len(dfnotFraudTransfer))"
   ]
  },
  {
   "cell_type": "code",
   "execution_count": 13,
   "id": "f4fc18ce",
   "metadata": {},
   "outputs": [],
   "source": [
    "#reshaping the data randomly to balance the dataset and reduce overfitting\n",
    "data1 = dataset.loc[(dataset.isFraud == 0) & (dataset['type'] == 'CASH_OUT')].sample(frac=0.002)\n",
    "data2 = dataset.loc[(dataset.isFraud == 0) & (dataset['type'] == 'TRANSFER')].sample(frac=0.008)"
   ]
  },
  {
   "cell_type": "code",
   "execution_count": 14,
   "id": "ba2be64e",
   "metadata": {},
   "outputs": [
    {
     "data": {
      "text/html": [
       "<div>\n",
       "<style scoped>\n",
       "    .dataframe tbody tr th:only-of-type {\n",
       "        vertical-align: middle;\n",
       "    }\n",
       "\n",
       "    .dataframe tbody tr th {\n",
       "        vertical-align: top;\n",
       "    }\n",
       "\n",
       "    .dataframe thead th {\n",
       "        text-align: right;\n",
       "    }\n",
       "</style>\n",
       "<table border=\"1\" class=\"dataframe\">\n",
       "  <thead>\n",
       "    <tr style=\"text-align: right;\">\n",
       "      <th></th>\n",
       "      <th>step</th>\n",
       "      <th>type</th>\n",
       "      <th>amount</th>\n",
       "      <th>nameOrig</th>\n",
       "      <th>oldbalanceOrg</th>\n",
       "      <th>newbalanceOrig</th>\n",
       "      <th>nameDest</th>\n",
       "      <th>oldbalanceDest</th>\n",
       "      <th>newbalanceDest</th>\n",
       "      <th>isFraud</th>\n",
       "      <th>isFlaggedFraud</th>\n",
       "    </tr>\n",
       "  </thead>\n",
       "  <tbody>\n",
       "    <tr>\n",
       "      <th>2961264</th>\n",
       "      <td>230</td>\n",
       "      <td>CASH_OUT</td>\n",
       "      <td>28419.23</td>\n",
       "      <td>C649143284</td>\n",
       "      <td>0.0</td>\n",
       "      <td>0.00</td>\n",
       "      <td>C1490573457</td>\n",
       "      <td>147873.96</td>\n",
       "      <td>176293.19</td>\n",
       "      <td>0</td>\n",
       "      <td>0</td>\n",
       "    </tr>\n",
       "    <tr>\n",
       "      <th>6078633</th>\n",
       "      <td>518</td>\n",
       "      <td>CASH_OUT</td>\n",
       "      <td>130163.78</td>\n",
       "      <td>C1016236296</td>\n",
       "      <td>0.0</td>\n",
       "      <td>0.00</td>\n",
       "      <td>C1174663259</td>\n",
       "      <td>668888.58</td>\n",
       "      <td>799052.36</td>\n",
       "      <td>0</td>\n",
       "      <td>0</td>\n",
       "    </tr>\n",
       "    <tr>\n",
       "      <th>1358078</th>\n",
       "      <td>138</td>\n",
       "      <td>CASH_OUT</td>\n",
       "      <td>24651.75</td>\n",
       "      <td>C739286350</td>\n",
       "      <td>1319.0</td>\n",
       "      <td>0.00</td>\n",
       "      <td>C239973890</td>\n",
       "      <td>53227.47</td>\n",
       "      <td>77879.22</td>\n",
       "      <td>0</td>\n",
       "      <td>0</td>\n",
       "    </tr>\n",
       "    <tr>\n",
       "      <th>659334</th>\n",
       "      <td>35</td>\n",
       "      <td>CASH_OUT</td>\n",
       "      <td>106639.42</td>\n",
       "      <td>C1147313733</td>\n",
       "      <td>15500.0</td>\n",
       "      <td>0.00</td>\n",
       "      <td>C457349948</td>\n",
       "      <td>259914.24</td>\n",
       "      <td>285559.85</td>\n",
       "      <td>0</td>\n",
       "      <td>0</td>\n",
       "    </tr>\n",
       "    <tr>\n",
       "      <th>864191</th>\n",
       "      <td>42</td>\n",
       "      <td>CASH_OUT</td>\n",
       "      <td>346879.03</td>\n",
       "      <td>C590550378</td>\n",
       "      <td>0.0</td>\n",
       "      <td>0.00</td>\n",
       "      <td>C1244180132</td>\n",
       "      <td>465053.94</td>\n",
       "      <td>997401.73</td>\n",
       "      <td>0</td>\n",
       "      <td>0</td>\n",
       "    </tr>\n",
       "    <tr>\n",
       "      <th>...</th>\n",
       "      <td>...</td>\n",
       "      <td>...</td>\n",
       "      <td>...</td>\n",
       "      <td>...</td>\n",
       "      <td>...</td>\n",
       "      <td>...</td>\n",
       "      <td>...</td>\n",
       "      <td>...</td>\n",
       "      <td>...</td>\n",
       "      <td>...</td>\n",
       "      <td>...</td>\n",
       "    </tr>\n",
       "    <tr>\n",
       "      <th>2321483</th>\n",
       "      <td>188</td>\n",
       "      <td>CASH_OUT</td>\n",
       "      <td>165075.18</td>\n",
       "      <td>C199931511</td>\n",
       "      <td>21015.0</td>\n",
       "      <td>0.00</td>\n",
       "      <td>C1822140102</td>\n",
       "      <td>351680.25</td>\n",
       "      <td>516755.43</td>\n",
       "      <td>0</td>\n",
       "      <td>0</td>\n",
       "    </tr>\n",
       "    <tr>\n",
       "      <th>3690463</th>\n",
       "      <td>277</td>\n",
       "      <td>CASH_OUT</td>\n",
       "      <td>214399.57</td>\n",
       "      <td>C586583074</td>\n",
       "      <td>3714.0</td>\n",
       "      <td>0.00</td>\n",
       "      <td>C1662266839</td>\n",
       "      <td>24917.07</td>\n",
       "      <td>239316.64</td>\n",
       "      <td>0</td>\n",
       "      <td>0</td>\n",
       "    </tr>\n",
       "    <tr>\n",
       "      <th>1544531</th>\n",
       "      <td>154</td>\n",
       "      <td>CASH_OUT</td>\n",
       "      <td>13283.79</td>\n",
       "      <td>C442625882</td>\n",
       "      <td>68075.0</td>\n",
       "      <td>54791.21</td>\n",
       "      <td>C829025043</td>\n",
       "      <td>990657.67</td>\n",
       "      <td>1003941.46</td>\n",
       "      <td>0</td>\n",
       "      <td>0</td>\n",
       "    </tr>\n",
       "    <tr>\n",
       "      <th>2880615</th>\n",
       "      <td>228</td>\n",
       "      <td>CASH_OUT</td>\n",
       "      <td>271326.22</td>\n",
       "      <td>C521971604</td>\n",
       "      <td>0.0</td>\n",
       "      <td>0.00</td>\n",
       "      <td>C1671752615</td>\n",
       "      <td>9886462.46</td>\n",
       "      <td>10157788.68</td>\n",
       "      <td>0</td>\n",
       "      <td>0</td>\n",
       "    </tr>\n",
       "    <tr>\n",
       "      <th>4032824</th>\n",
       "      <td>299</td>\n",
       "      <td>CASH_OUT</td>\n",
       "      <td>59792.33</td>\n",
       "      <td>C2076145269</td>\n",
       "      <td>0.0</td>\n",
       "      <td>0.00</td>\n",
       "      <td>C1872343489</td>\n",
       "      <td>2385930.71</td>\n",
       "      <td>2445723.04</td>\n",
       "      <td>0</td>\n",
       "      <td>0</td>\n",
       "    </tr>\n",
       "  </tbody>\n",
       "</table>\n",
       "<p>4467 rows × 11 columns</p>\n",
       "</div>"
      ],
      "text/plain": [
       "         step      type     amount     nameOrig  oldbalanceOrg  \\\n",
       "2961264   230  CASH_OUT   28419.23   C649143284            0.0   \n",
       "6078633   518  CASH_OUT  130163.78  C1016236296            0.0   \n",
       "1358078   138  CASH_OUT   24651.75   C739286350         1319.0   \n",
       "659334     35  CASH_OUT  106639.42  C1147313733        15500.0   \n",
       "864191     42  CASH_OUT  346879.03   C590550378            0.0   \n",
       "...       ...       ...        ...          ...            ...   \n",
       "2321483   188  CASH_OUT  165075.18   C199931511        21015.0   \n",
       "3690463   277  CASH_OUT  214399.57   C586583074         3714.0   \n",
       "1544531   154  CASH_OUT   13283.79   C442625882        68075.0   \n",
       "2880615   228  CASH_OUT  271326.22   C521971604            0.0   \n",
       "4032824   299  CASH_OUT   59792.33  C2076145269            0.0   \n",
       "\n",
       "         newbalanceOrig     nameDest  oldbalanceDest  newbalanceDest  isFraud  \\\n",
       "2961264            0.00  C1490573457       147873.96       176293.19        0   \n",
       "6078633            0.00  C1174663259       668888.58       799052.36        0   \n",
       "1358078            0.00   C239973890        53227.47        77879.22        0   \n",
       "659334             0.00   C457349948       259914.24       285559.85        0   \n",
       "864191             0.00  C1244180132       465053.94       997401.73        0   \n",
       "...                 ...          ...             ...             ...      ...   \n",
       "2321483            0.00  C1822140102       351680.25       516755.43        0   \n",
       "3690463            0.00  C1662266839        24917.07       239316.64        0   \n",
       "1544531        54791.21   C829025043       990657.67      1003941.46        0   \n",
       "2880615            0.00  C1671752615      9886462.46     10157788.68        0   \n",
       "4032824            0.00  C1872343489      2385930.71      2445723.04        0   \n",
       "\n",
       "         isFlaggedFraud  \n",
       "2961264               0  \n",
       "6078633               0  \n",
       "1358078               0  \n",
       "659334                0  \n",
       "864191                0  \n",
       "...                 ...  \n",
       "2321483               0  \n",
       "3690463               0  \n",
       "1544531               0  \n",
       "2880615               0  \n",
       "4032824               0  \n",
       "\n",
       "[4467 rows x 11 columns]"
      ]
     },
     "execution_count": 14,
     "metadata": {},
     "output_type": "execute_result"
    }
   ],
   "source": [
    "data1"
   ]
  },
  {
   "cell_type": "code",
   "execution_count": 15,
   "id": "f76972ff",
   "metadata": {},
   "outputs": [
    {
     "data": {
      "text/html": [
       "<div>\n",
       "<style scoped>\n",
       "    .dataframe tbody tr th:only-of-type {\n",
       "        vertical-align: middle;\n",
       "    }\n",
       "\n",
       "    .dataframe tbody tr th {\n",
       "        vertical-align: top;\n",
       "    }\n",
       "\n",
       "    .dataframe thead th {\n",
       "        text-align: right;\n",
       "    }\n",
       "</style>\n",
       "<table border=\"1\" class=\"dataframe\">\n",
       "  <thead>\n",
       "    <tr style=\"text-align: right;\">\n",
       "      <th></th>\n",
       "      <th>step</th>\n",
       "      <th>type</th>\n",
       "      <th>amount</th>\n",
       "      <th>nameOrig</th>\n",
       "      <th>oldbalanceOrg</th>\n",
       "      <th>newbalanceOrig</th>\n",
       "      <th>nameDest</th>\n",
       "      <th>oldbalanceDest</th>\n",
       "      <th>newbalanceDest</th>\n",
       "      <th>isFraud</th>\n",
       "      <th>isFlaggedFraud</th>\n",
       "    </tr>\n",
       "  </thead>\n",
       "  <tbody>\n",
       "    <tr>\n",
       "      <th>443544</th>\n",
       "      <td>19</td>\n",
       "      <td>TRANSFER</td>\n",
       "      <td>47885.11</td>\n",
       "      <td>C1534830175</td>\n",
       "      <td>198577.00</td>\n",
       "      <td>150691.89</td>\n",
       "      <td>C1088995938</td>\n",
       "      <td>0.00</td>\n",
       "      <td>47885.11</td>\n",
       "      <td>0</td>\n",
       "      <td>0</td>\n",
       "    </tr>\n",
       "    <tr>\n",
       "      <th>5817100</th>\n",
       "      <td>401</td>\n",
       "      <td>TRANSFER</td>\n",
       "      <td>1152294.62</td>\n",
       "      <td>C1961602013</td>\n",
       "      <td>244509.32</td>\n",
       "      <td>0.00</td>\n",
       "      <td>C1157099915</td>\n",
       "      <td>5718524.14</td>\n",
       "      <td>6870818.76</td>\n",
       "      <td>0</td>\n",
       "      <td>0</td>\n",
       "    </tr>\n",
       "    <tr>\n",
       "      <th>4775183</th>\n",
       "      <td>335</td>\n",
       "      <td>TRANSFER</td>\n",
       "      <td>614462.92</td>\n",
       "      <td>C1976069940</td>\n",
       "      <td>0.00</td>\n",
       "      <td>0.00</td>\n",
       "      <td>C1996890271</td>\n",
       "      <td>10552580.66</td>\n",
       "      <td>11167043.58</td>\n",
       "      <td>0</td>\n",
       "      <td>0</td>\n",
       "    </tr>\n",
       "    <tr>\n",
       "      <th>3597567</th>\n",
       "      <td>263</td>\n",
       "      <td>TRANSFER</td>\n",
       "      <td>216187.80</td>\n",
       "      <td>C960755382</td>\n",
       "      <td>11731.54</td>\n",
       "      <td>0.00</td>\n",
       "      <td>C1426198354</td>\n",
       "      <td>217202.47</td>\n",
       "      <td>433390.27</td>\n",
       "      <td>0</td>\n",
       "      <td>0</td>\n",
       "    </tr>\n",
       "    <tr>\n",
       "      <th>2244532</th>\n",
       "      <td>186</td>\n",
       "      <td>TRANSFER</td>\n",
       "      <td>593425.10</td>\n",
       "      <td>C463724103</td>\n",
       "      <td>10780.00</td>\n",
       "      <td>0.00</td>\n",
       "      <td>C976933169</td>\n",
       "      <td>742282.81</td>\n",
       "      <td>1335707.90</td>\n",
       "      <td>0</td>\n",
       "      <td>0</td>\n",
       "    </tr>\n",
       "    <tr>\n",
       "      <th>...</th>\n",
       "      <td>...</td>\n",
       "      <td>...</td>\n",
       "      <td>...</td>\n",
       "      <td>...</td>\n",
       "      <td>...</td>\n",
       "      <td>...</td>\n",
       "      <td>...</td>\n",
       "      <td>...</td>\n",
       "      <td>...</td>\n",
       "      <td>...</td>\n",
       "      <td>...</td>\n",
       "    </tr>\n",
       "    <tr>\n",
       "      <th>39734</th>\n",
       "      <td>9</td>\n",
       "      <td>TRANSFER</td>\n",
       "      <td>1382467.78</td>\n",
       "      <td>C1253090203</td>\n",
       "      <td>101.00</td>\n",
       "      <td>0.00</td>\n",
       "      <td>C1638345617</td>\n",
       "      <td>0.00</td>\n",
       "      <td>2043512.68</td>\n",
       "      <td>0</td>\n",
       "      <td>0</td>\n",
       "    </tr>\n",
       "    <tr>\n",
       "      <th>1163982</th>\n",
       "      <td>132</td>\n",
       "      <td>TRANSFER</td>\n",
       "      <td>125924.43</td>\n",
       "      <td>C614259876</td>\n",
       "      <td>0.00</td>\n",
       "      <td>0.00</td>\n",
       "      <td>C1631845826</td>\n",
       "      <td>155060.47</td>\n",
       "      <td>280984.90</td>\n",
       "      <td>0</td>\n",
       "      <td>0</td>\n",
       "    </tr>\n",
       "    <tr>\n",
       "      <th>409823</th>\n",
       "      <td>18</td>\n",
       "      <td>TRANSFER</td>\n",
       "      <td>1565475.45</td>\n",
       "      <td>C1840943617</td>\n",
       "      <td>1537.00</td>\n",
       "      <td>0.00</td>\n",
       "      <td>C236174218</td>\n",
       "      <td>2338763.94</td>\n",
       "      <td>3986514.19</td>\n",
       "      <td>0</td>\n",
       "      <td>0</td>\n",
       "    </tr>\n",
       "    <tr>\n",
       "      <th>5577413</th>\n",
       "      <td>393</td>\n",
       "      <td>TRANSFER</td>\n",
       "      <td>3298367.55</td>\n",
       "      <td>C433363962</td>\n",
       "      <td>3084.00</td>\n",
       "      <td>0.00</td>\n",
       "      <td>C1559661659</td>\n",
       "      <td>746635.61</td>\n",
       "      <td>4045003.17</td>\n",
       "      <td>0</td>\n",
       "      <td>0</td>\n",
       "    </tr>\n",
       "    <tr>\n",
       "      <th>2428743</th>\n",
       "      <td>202</td>\n",
       "      <td>TRANSFER</td>\n",
       "      <td>262105.02</td>\n",
       "      <td>C1064640136</td>\n",
       "      <td>0.00</td>\n",
       "      <td>0.00</td>\n",
       "      <td>C131235543</td>\n",
       "      <td>740083.28</td>\n",
       "      <td>1002188.29</td>\n",
       "      <td>0</td>\n",
       "      <td>0</td>\n",
       "    </tr>\n",
       "  </tbody>\n",
       "</table>\n",
       "<p>4230 rows × 11 columns</p>\n",
       "</div>"
      ],
      "text/plain": [
       "         step      type      amount     nameOrig  oldbalanceOrg  \\\n",
       "443544     19  TRANSFER    47885.11  C1534830175      198577.00   \n",
       "5817100   401  TRANSFER  1152294.62  C1961602013      244509.32   \n",
       "4775183   335  TRANSFER   614462.92  C1976069940           0.00   \n",
       "3597567   263  TRANSFER   216187.80   C960755382       11731.54   \n",
       "2244532   186  TRANSFER   593425.10   C463724103       10780.00   \n",
       "...       ...       ...         ...          ...            ...   \n",
       "39734       9  TRANSFER  1382467.78  C1253090203         101.00   \n",
       "1163982   132  TRANSFER   125924.43   C614259876           0.00   \n",
       "409823     18  TRANSFER  1565475.45  C1840943617        1537.00   \n",
       "5577413   393  TRANSFER  3298367.55   C433363962        3084.00   \n",
       "2428743   202  TRANSFER   262105.02  C1064640136           0.00   \n",
       "\n",
       "         newbalanceOrig     nameDest  oldbalanceDest  newbalanceDest  isFraud  \\\n",
       "443544        150691.89  C1088995938            0.00        47885.11        0   \n",
       "5817100            0.00  C1157099915      5718524.14      6870818.76        0   \n",
       "4775183            0.00  C1996890271     10552580.66     11167043.58        0   \n",
       "3597567            0.00  C1426198354       217202.47       433390.27        0   \n",
       "2244532            0.00   C976933169       742282.81      1335707.90        0   \n",
       "...                 ...          ...             ...             ...      ...   \n",
       "39734              0.00  C1638345617            0.00      2043512.68        0   \n",
       "1163982            0.00  C1631845826       155060.47       280984.90        0   \n",
       "409823             0.00   C236174218      2338763.94      3986514.19        0   \n",
       "5577413            0.00  C1559661659       746635.61      4045003.17        0   \n",
       "2428743            0.00   C131235543       740083.28      1002188.29        0   \n",
       "\n",
       "         isFlaggedFraud  \n",
       "443544                0  \n",
       "5817100               0  \n",
       "4775183               0  \n",
       "3597567               0  \n",
       "2244532               0  \n",
       "...                 ...  \n",
       "39734                 0  \n",
       "1163982               0  \n",
       "409823                0  \n",
       "5577413               0  \n",
       "2428743               0  \n",
       "\n",
       "[4230 rows x 11 columns]"
      ]
     },
     "execution_count": 15,
     "metadata": {},
     "output_type": "execute_result"
    }
   ],
   "source": [
    "data2"
   ]
  },
  {
   "cell_type": "code",
   "execution_count": 16,
   "id": "c5187e57",
   "metadata": {},
   "outputs": [
    {
     "data": {
      "text/html": [
       "<div>\n",
       "<style scoped>\n",
       "    .dataframe tbody tr th:only-of-type {\n",
       "        vertical-align: middle;\n",
       "    }\n",
       "\n",
       "    .dataframe tbody tr th {\n",
       "        vertical-align: top;\n",
       "    }\n",
       "\n",
       "    .dataframe thead th {\n",
       "        text-align: right;\n",
       "    }\n",
       "</style>\n",
       "<table border=\"1\" class=\"dataframe\">\n",
       "  <thead>\n",
       "    <tr style=\"text-align: right;\">\n",
       "      <th></th>\n",
       "      <th>step</th>\n",
       "      <th>type</th>\n",
       "      <th>amount</th>\n",
       "      <th>nameOrig</th>\n",
       "      <th>oldbalanceOrg</th>\n",
       "      <th>newbalanceOrig</th>\n",
       "      <th>nameDest</th>\n",
       "      <th>oldbalanceDest</th>\n",
       "      <th>newbalanceDest</th>\n",
       "      <th>isFraud</th>\n",
       "      <th>isFlaggedFraud</th>\n",
       "    </tr>\n",
       "  </thead>\n",
       "  <tbody>\n",
       "    <tr>\n",
       "      <th>2961264</th>\n",
       "      <td>230</td>\n",
       "      <td>CASH_OUT</td>\n",
       "      <td>28419.23</td>\n",
       "      <td>C649143284</td>\n",
       "      <td>0.00</td>\n",
       "      <td>0.0</td>\n",
       "      <td>C1490573457</td>\n",
       "      <td>147873.96</td>\n",
       "      <td>176293.19</td>\n",
       "      <td>0</td>\n",
       "      <td>0</td>\n",
       "    </tr>\n",
       "    <tr>\n",
       "      <th>6078633</th>\n",
       "      <td>518</td>\n",
       "      <td>CASH_OUT</td>\n",
       "      <td>130163.78</td>\n",
       "      <td>C1016236296</td>\n",
       "      <td>0.00</td>\n",
       "      <td>0.0</td>\n",
       "      <td>C1174663259</td>\n",
       "      <td>668888.58</td>\n",
       "      <td>799052.36</td>\n",
       "      <td>0</td>\n",
       "      <td>0</td>\n",
       "    </tr>\n",
       "    <tr>\n",
       "      <th>1358078</th>\n",
       "      <td>138</td>\n",
       "      <td>CASH_OUT</td>\n",
       "      <td>24651.75</td>\n",
       "      <td>C739286350</td>\n",
       "      <td>1319.00</td>\n",
       "      <td>0.0</td>\n",
       "      <td>C239973890</td>\n",
       "      <td>53227.47</td>\n",
       "      <td>77879.22</td>\n",
       "      <td>0</td>\n",
       "      <td>0</td>\n",
       "    </tr>\n",
       "    <tr>\n",
       "      <th>659334</th>\n",
       "      <td>35</td>\n",
       "      <td>CASH_OUT</td>\n",
       "      <td>106639.42</td>\n",
       "      <td>C1147313733</td>\n",
       "      <td>15500.00</td>\n",
       "      <td>0.0</td>\n",
       "      <td>C457349948</td>\n",
       "      <td>259914.24</td>\n",
       "      <td>285559.85</td>\n",
       "      <td>0</td>\n",
       "      <td>0</td>\n",
       "    </tr>\n",
       "    <tr>\n",
       "      <th>864191</th>\n",
       "      <td>42</td>\n",
       "      <td>CASH_OUT</td>\n",
       "      <td>346879.03</td>\n",
       "      <td>C590550378</td>\n",
       "      <td>0.00</td>\n",
       "      <td>0.0</td>\n",
       "      <td>C1244180132</td>\n",
       "      <td>465053.94</td>\n",
       "      <td>997401.73</td>\n",
       "      <td>0</td>\n",
       "      <td>0</td>\n",
       "    </tr>\n",
       "    <tr>\n",
       "      <th>...</th>\n",
       "      <td>...</td>\n",
       "      <td>...</td>\n",
       "      <td>...</td>\n",
       "      <td>...</td>\n",
       "      <td>...</td>\n",
       "      <td>...</td>\n",
       "      <td>...</td>\n",
       "      <td>...</td>\n",
       "      <td>...</td>\n",
       "      <td>...</td>\n",
       "      <td>...</td>\n",
       "    </tr>\n",
       "    <tr>\n",
       "      <th>6362610</th>\n",
       "      <td>742</td>\n",
       "      <td>TRANSFER</td>\n",
       "      <td>63416.99</td>\n",
       "      <td>C778071008</td>\n",
       "      <td>63416.99</td>\n",
       "      <td>0.0</td>\n",
       "      <td>C1812552860</td>\n",
       "      <td>0.00</td>\n",
       "      <td>0.00</td>\n",
       "      <td>1</td>\n",
       "      <td>0</td>\n",
       "    </tr>\n",
       "    <tr>\n",
       "      <th>6362612</th>\n",
       "      <td>743</td>\n",
       "      <td>TRANSFER</td>\n",
       "      <td>1258818.82</td>\n",
       "      <td>C1531301470</td>\n",
       "      <td>1258818.82</td>\n",
       "      <td>0.0</td>\n",
       "      <td>C1470998563</td>\n",
       "      <td>0.00</td>\n",
       "      <td>0.00</td>\n",
       "      <td>1</td>\n",
       "      <td>0</td>\n",
       "    </tr>\n",
       "    <tr>\n",
       "      <th>6362614</th>\n",
       "      <td>743</td>\n",
       "      <td>TRANSFER</td>\n",
       "      <td>339682.13</td>\n",
       "      <td>C2013999242</td>\n",
       "      <td>339682.13</td>\n",
       "      <td>0.0</td>\n",
       "      <td>C1850423904</td>\n",
       "      <td>0.00</td>\n",
       "      <td>0.00</td>\n",
       "      <td>1</td>\n",
       "      <td>0</td>\n",
       "    </tr>\n",
       "    <tr>\n",
       "      <th>6362616</th>\n",
       "      <td>743</td>\n",
       "      <td>TRANSFER</td>\n",
       "      <td>6311409.28</td>\n",
       "      <td>C1529008245</td>\n",
       "      <td>6311409.28</td>\n",
       "      <td>0.0</td>\n",
       "      <td>C1881841831</td>\n",
       "      <td>0.00</td>\n",
       "      <td>0.00</td>\n",
       "      <td>1</td>\n",
       "      <td>0</td>\n",
       "    </tr>\n",
       "    <tr>\n",
       "      <th>6362618</th>\n",
       "      <td>743</td>\n",
       "      <td>TRANSFER</td>\n",
       "      <td>850002.52</td>\n",
       "      <td>C1685995037</td>\n",
       "      <td>850002.52</td>\n",
       "      <td>0.0</td>\n",
       "      <td>C2080388513</td>\n",
       "      <td>0.00</td>\n",
       "      <td>0.00</td>\n",
       "      <td>1</td>\n",
       "      <td>0</td>\n",
       "    </tr>\n",
       "  </tbody>\n",
       "</table>\n",
       "<p>16910 rows × 11 columns</p>\n",
       "</div>"
      ],
      "text/plain": [
       "         step      type      amount     nameOrig  oldbalanceOrg  \\\n",
       "2961264   230  CASH_OUT    28419.23   C649143284           0.00   \n",
       "6078633   518  CASH_OUT   130163.78  C1016236296           0.00   \n",
       "1358078   138  CASH_OUT    24651.75   C739286350        1319.00   \n",
       "659334     35  CASH_OUT   106639.42  C1147313733       15500.00   \n",
       "864191     42  CASH_OUT   346879.03   C590550378           0.00   \n",
       "...       ...       ...         ...          ...            ...   \n",
       "6362610   742  TRANSFER    63416.99   C778071008       63416.99   \n",
       "6362612   743  TRANSFER  1258818.82  C1531301470     1258818.82   \n",
       "6362614   743  TRANSFER   339682.13  C2013999242      339682.13   \n",
       "6362616   743  TRANSFER  6311409.28  C1529008245     6311409.28   \n",
       "6362618   743  TRANSFER   850002.52  C1685995037      850002.52   \n",
       "\n",
       "         newbalanceOrig     nameDest  oldbalanceDest  newbalanceDest  isFraud  \\\n",
       "2961264             0.0  C1490573457       147873.96       176293.19        0   \n",
       "6078633             0.0  C1174663259       668888.58       799052.36        0   \n",
       "1358078             0.0   C239973890        53227.47        77879.22        0   \n",
       "659334              0.0   C457349948       259914.24       285559.85        0   \n",
       "864191              0.0  C1244180132       465053.94       997401.73        0   \n",
       "...                 ...          ...             ...             ...      ...   \n",
       "6362610             0.0  C1812552860            0.00            0.00        1   \n",
       "6362612             0.0  C1470998563            0.00            0.00        1   \n",
       "6362614             0.0  C1850423904            0.00            0.00        1   \n",
       "6362616             0.0  C1881841831            0.00            0.00        1   \n",
       "6362618             0.0  C2080388513            0.00            0.00        1   \n",
       "\n",
       "         isFlaggedFraud  \n",
       "2961264               0  \n",
       "6078633               0  \n",
       "1358078               0  \n",
       "659334                0  \n",
       "864191                0  \n",
       "...                 ...  \n",
       "6362610               0  \n",
       "6362612               0  \n",
       "6362614               0  \n",
       "6362616               0  \n",
       "6362618               0  \n",
       "\n",
       "[16910 rows x 11 columns]"
      ]
     },
     "execution_count": 16,
     "metadata": {},
     "output_type": "execute_result"
    }
   ],
   "source": [
    "# creating our data set by concatenating the segregated data frames\n",
    "fraud_data = pd.concat([data1,fraud_cashout, data2, fraud_transfer])\n",
    "fraud_data"
   ]
  },
  {
   "cell_type": "code",
   "execution_count": 17,
   "id": "60369fe7",
   "metadata": {},
   "outputs": [
    {
     "data": {
      "text/plain": [
       "8213"
      ]
     },
     "execution_count": 17,
     "metadata": {},
     "output_type": "execute_result"
    }
   ],
   "source": [
    "fraud_data.isFraud.sum()"
   ]
  },
  {
   "cell_type": "markdown",
   "id": "44d9de0d",
   "metadata": {},
   "source": [
    "Now, column **type** is Categorical object which we convert into Numerical Data to apply operations on it"
   ]
  },
  {
   "cell_type": "code",
   "execution_count": 18,
   "id": "760fc9de",
   "metadata": {},
   "outputs": [
    {
     "data": {
      "text/plain": [
       "array([0, 0, 0, ..., 1, 1, 1])"
      ]
     },
     "execution_count": 18,
     "metadata": {},
     "output_type": "execute_result"
    }
   ],
   "source": [
    "from sklearn.preprocessing import LabelEncoder\n",
    "le = LabelEncoder()\n",
    "label = le.fit_transform(fraud_data['type'])\n",
    "label"
   ]
  },
  {
   "cell_type": "code",
   "execution_count": 19,
   "id": "4544f7fd",
   "metadata": {},
   "outputs": [],
   "source": [
    "# Inserting converted type data into our dataset\n",
    "fraud_data.insert(2,'type_num', label)"
   ]
  },
  {
   "cell_type": "code",
   "execution_count": 20,
   "id": "d387c963",
   "metadata": {},
   "outputs": [
    {
     "data": {
      "text/html": [
       "<div>\n",
       "<style scoped>\n",
       "    .dataframe tbody tr th:only-of-type {\n",
       "        vertical-align: middle;\n",
       "    }\n",
       "\n",
       "    .dataframe tbody tr th {\n",
       "        vertical-align: top;\n",
       "    }\n",
       "\n",
       "    .dataframe thead th {\n",
       "        text-align: right;\n",
       "    }\n",
       "</style>\n",
       "<table border=\"1\" class=\"dataframe\">\n",
       "  <thead>\n",
       "    <tr style=\"text-align: right;\">\n",
       "      <th></th>\n",
       "      <th>step</th>\n",
       "      <th>type</th>\n",
       "      <th>type_num</th>\n",
       "      <th>amount</th>\n",
       "      <th>nameOrig</th>\n",
       "      <th>oldbalanceOrg</th>\n",
       "      <th>newbalanceOrig</th>\n",
       "      <th>nameDest</th>\n",
       "      <th>oldbalanceDest</th>\n",
       "      <th>newbalanceDest</th>\n",
       "      <th>isFraud</th>\n",
       "      <th>isFlaggedFraud</th>\n",
       "    </tr>\n",
       "  </thead>\n",
       "  <tbody>\n",
       "    <tr>\n",
       "      <th>2961264</th>\n",
       "      <td>230</td>\n",
       "      <td>CASH_OUT</td>\n",
       "      <td>0</td>\n",
       "      <td>28419.23</td>\n",
       "      <td>649143284</td>\n",
       "      <td>0.00</td>\n",
       "      <td>0.0</td>\n",
       "      <td>C1490573457</td>\n",
       "      <td>147873.96</td>\n",
       "      <td>176293.19</td>\n",
       "      <td>0</td>\n",
       "      <td>0</td>\n",
       "    </tr>\n",
       "    <tr>\n",
       "      <th>6078633</th>\n",
       "      <td>518</td>\n",
       "      <td>CASH_OUT</td>\n",
       "      <td>0</td>\n",
       "      <td>130163.78</td>\n",
       "      <td>1016236296</td>\n",
       "      <td>0.00</td>\n",
       "      <td>0.0</td>\n",
       "      <td>C1174663259</td>\n",
       "      <td>668888.58</td>\n",
       "      <td>799052.36</td>\n",
       "      <td>0</td>\n",
       "      <td>0</td>\n",
       "    </tr>\n",
       "    <tr>\n",
       "      <th>1358078</th>\n",
       "      <td>138</td>\n",
       "      <td>CASH_OUT</td>\n",
       "      <td>0</td>\n",
       "      <td>24651.75</td>\n",
       "      <td>739286350</td>\n",
       "      <td>1319.00</td>\n",
       "      <td>0.0</td>\n",
       "      <td>C239973890</td>\n",
       "      <td>53227.47</td>\n",
       "      <td>77879.22</td>\n",
       "      <td>0</td>\n",
       "      <td>0</td>\n",
       "    </tr>\n",
       "    <tr>\n",
       "      <th>659334</th>\n",
       "      <td>35</td>\n",
       "      <td>CASH_OUT</td>\n",
       "      <td>0</td>\n",
       "      <td>106639.42</td>\n",
       "      <td>1147313733</td>\n",
       "      <td>15500.00</td>\n",
       "      <td>0.0</td>\n",
       "      <td>C457349948</td>\n",
       "      <td>259914.24</td>\n",
       "      <td>285559.85</td>\n",
       "      <td>0</td>\n",
       "      <td>0</td>\n",
       "    </tr>\n",
       "    <tr>\n",
       "      <th>864191</th>\n",
       "      <td>42</td>\n",
       "      <td>CASH_OUT</td>\n",
       "      <td>0</td>\n",
       "      <td>346879.03</td>\n",
       "      <td>590550378</td>\n",
       "      <td>0.00</td>\n",
       "      <td>0.0</td>\n",
       "      <td>C1244180132</td>\n",
       "      <td>465053.94</td>\n",
       "      <td>997401.73</td>\n",
       "      <td>0</td>\n",
       "      <td>0</td>\n",
       "    </tr>\n",
       "    <tr>\n",
       "      <th>...</th>\n",
       "      <td>...</td>\n",
       "      <td>...</td>\n",
       "      <td>...</td>\n",
       "      <td>...</td>\n",
       "      <td>...</td>\n",
       "      <td>...</td>\n",
       "      <td>...</td>\n",
       "      <td>...</td>\n",
       "      <td>...</td>\n",
       "      <td>...</td>\n",
       "      <td>...</td>\n",
       "      <td>...</td>\n",
       "    </tr>\n",
       "    <tr>\n",
       "      <th>6362610</th>\n",
       "      <td>742</td>\n",
       "      <td>TRANSFER</td>\n",
       "      <td>1</td>\n",
       "      <td>63416.99</td>\n",
       "      <td>778071008</td>\n",
       "      <td>63416.99</td>\n",
       "      <td>0.0</td>\n",
       "      <td>C1812552860</td>\n",
       "      <td>0.00</td>\n",
       "      <td>0.00</td>\n",
       "      <td>1</td>\n",
       "      <td>0</td>\n",
       "    </tr>\n",
       "    <tr>\n",
       "      <th>6362612</th>\n",
       "      <td>743</td>\n",
       "      <td>TRANSFER</td>\n",
       "      <td>1</td>\n",
       "      <td>1258818.82</td>\n",
       "      <td>1531301470</td>\n",
       "      <td>1258818.82</td>\n",
       "      <td>0.0</td>\n",
       "      <td>C1470998563</td>\n",
       "      <td>0.00</td>\n",
       "      <td>0.00</td>\n",
       "      <td>1</td>\n",
       "      <td>0</td>\n",
       "    </tr>\n",
       "    <tr>\n",
       "      <th>6362614</th>\n",
       "      <td>743</td>\n",
       "      <td>TRANSFER</td>\n",
       "      <td>1</td>\n",
       "      <td>339682.13</td>\n",
       "      <td>2013999242</td>\n",
       "      <td>339682.13</td>\n",
       "      <td>0.0</td>\n",
       "      <td>C1850423904</td>\n",
       "      <td>0.00</td>\n",
       "      <td>0.00</td>\n",
       "      <td>1</td>\n",
       "      <td>0</td>\n",
       "    </tr>\n",
       "    <tr>\n",
       "      <th>6362616</th>\n",
       "      <td>743</td>\n",
       "      <td>TRANSFER</td>\n",
       "      <td>1</td>\n",
       "      <td>6311409.28</td>\n",
       "      <td>1529008245</td>\n",
       "      <td>6311409.28</td>\n",
       "      <td>0.0</td>\n",
       "      <td>C1881841831</td>\n",
       "      <td>0.00</td>\n",
       "      <td>0.00</td>\n",
       "      <td>1</td>\n",
       "      <td>0</td>\n",
       "    </tr>\n",
       "    <tr>\n",
       "      <th>6362618</th>\n",
       "      <td>743</td>\n",
       "      <td>TRANSFER</td>\n",
       "      <td>1</td>\n",
       "      <td>850002.52</td>\n",
       "      <td>1685995037</td>\n",
       "      <td>850002.52</td>\n",
       "      <td>0.0</td>\n",
       "      <td>C2080388513</td>\n",
       "      <td>0.00</td>\n",
       "      <td>0.00</td>\n",
       "      <td>1</td>\n",
       "      <td>0</td>\n",
       "    </tr>\n",
       "  </tbody>\n",
       "</table>\n",
       "<p>16910 rows × 12 columns</p>\n",
       "</div>"
      ],
      "text/plain": [
       "         step      type  type_num      amount    nameOrig  oldbalanceOrg  \\\n",
       "2961264   230  CASH_OUT         0    28419.23   649143284           0.00   \n",
       "6078633   518  CASH_OUT         0   130163.78  1016236296           0.00   \n",
       "1358078   138  CASH_OUT         0    24651.75   739286350        1319.00   \n",
       "659334     35  CASH_OUT         0   106639.42  1147313733       15500.00   \n",
       "864191     42  CASH_OUT         0   346879.03   590550378           0.00   \n",
       "...       ...       ...       ...         ...         ...            ...   \n",
       "6362610   742  TRANSFER         1    63416.99   778071008       63416.99   \n",
       "6362612   743  TRANSFER         1  1258818.82  1531301470     1258818.82   \n",
       "6362614   743  TRANSFER         1   339682.13  2013999242      339682.13   \n",
       "6362616   743  TRANSFER         1  6311409.28  1529008245     6311409.28   \n",
       "6362618   743  TRANSFER         1   850002.52  1685995037      850002.52   \n",
       "\n",
       "         newbalanceOrig     nameDest  oldbalanceDest  newbalanceDest  isFraud  \\\n",
       "2961264             0.0  C1490573457       147873.96       176293.19        0   \n",
       "6078633             0.0  C1174663259       668888.58       799052.36        0   \n",
       "1358078             0.0   C239973890        53227.47        77879.22        0   \n",
       "659334              0.0   C457349948       259914.24       285559.85        0   \n",
       "864191              0.0  C1244180132       465053.94       997401.73        0   \n",
       "...                 ...          ...             ...             ...      ...   \n",
       "6362610             0.0  C1812552860            0.00            0.00        1   \n",
       "6362612             0.0  C1470998563            0.00            0.00        1   \n",
       "6362614             0.0  C1850423904            0.00            0.00        1   \n",
       "6362616             0.0  C1881841831            0.00            0.00        1   \n",
       "6362618             0.0  C2080388513            0.00            0.00        1   \n",
       "\n",
       "         isFlaggedFraud  \n",
       "2961264               0  \n",
       "6078633               0  \n",
       "1358078               0  \n",
       "659334                0  \n",
       "864191                0  \n",
       "...                 ...  \n",
       "6362610               0  \n",
       "6362612               0  \n",
       "6362614               0  \n",
       "6362616               0  \n",
       "6362618               0  \n",
       "\n",
       "[16910 rows x 12 columns]"
      ]
     },
     "execution_count": 20,
     "metadata": {},
     "output_type": "execute_result"
    }
   ],
   "source": [
    "# Converting nameOrig column into only ids by removing C from its front\n",
    "fraud_data['nameOrig'] = fraud_data['nameOrig'].replace({'C': ''}, regex=True)\n",
    "fraud_data"
   ]
  },
  {
   "cell_type": "code",
   "execution_count": 21,
   "id": "f02ba36f",
   "metadata": {},
   "outputs": [
    {
     "name": "stdout",
     "output_type": "stream",
     "text": [
      "<class 'pandas.core.frame.DataFrame'>\n",
      "Int64Index: 16910 entries, 2961264 to 6362618\n",
      "Data columns (total 12 columns):\n",
      " #   Column          Non-Null Count  Dtype  \n",
      "---  ------          --------------  -----  \n",
      " 0   step            16910 non-null  int64  \n",
      " 1   type            16910 non-null  object \n",
      " 2   type_num        16910 non-null  int32  \n",
      " 3   amount          16910 non-null  float64\n",
      " 4   nameOrig        16910 non-null  int64  \n",
      " 5   oldbalanceOrg   16910 non-null  float64\n",
      " 6   newbalanceOrig  16910 non-null  float64\n",
      " 7   nameDest        16910 non-null  object \n",
      " 8   oldbalanceDest  16910 non-null  float64\n",
      " 9   newbalanceDest  16910 non-null  float64\n",
      " 10  isFraud         16910 non-null  int64  \n",
      " 11  isFlaggedFraud  16910 non-null  int64  \n",
      "dtypes: float64(5), int32(1), int64(4), object(2)\n",
      "memory usage: 1.6+ MB\n"
     ]
    }
   ],
   "source": [
    "fraud_data['nameOrig'] = pd.to_numeric(fraud_data['nameOrig'])\n",
    "fraud_data.info()"
   ]
  },
  {
   "cell_type": "markdown",
   "id": "626166b4",
   "metadata": {},
   "source": [
    "### Feature Selection"
   ]
  },
  {
   "cell_type": "markdown",
   "id": "7fd72a38",
   "metadata": {},
   "source": [
    "Columns **step, nameDest, type and isFlaggedFraud** are not taken into consideration for training our prediction models because\n",
    "column **nameDest** is string which are not providing any significance to our data, **type** column is dropped because we already converted it into numerical data and **isFlaggedFraud** is removed because we believe that it is the pre determined output which needs to be found out by the model. Also **step** is just hour out of 30 days of simulation"
   ]
  },
  {
   "cell_type": "code",
   "execution_count": 22,
   "id": "8c47517e",
   "metadata": {},
   "outputs": [],
   "source": [
    "fraud_data = fraud_data.drop(['step','nameDest', 'type','isFlaggedFraud'], axis=1)"
   ]
  },
  {
   "cell_type": "code",
   "execution_count": 23,
   "id": "1617b940",
   "metadata": {},
   "outputs": [
    {
     "data": {
      "text/html": [
       "<div>\n",
       "<style scoped>\n",
       "    .dataframe tbody tr th:only-of-type {\n",
       "        vertical-align: middle;\n",
       "    }\n",
       "\n",
       "    .dataframe tbody tr th {\n",
       "        vertical-align: top;\n",
       "    }\n",
       "\n",
       "    .dataframe thead th {\n",
       "        text-align: right;\n",
       "    }\n",
       "</style>\n",
       "<table border=\"1\" class=\"dataframe\">\n",
       "  <thead>\n",
       "    <tr style=\"text-align: right;\">\n",
       "      <th></th>\n",
       "      <th>type_num</th>\n",
       "      <th>amount</th>\n",
       "      <th>nameOrig</th>\n",
       "      <th>oldbalanceOrg</th>\n",
       "      <th>newbalanceOrig</th>\n",
       "      <th>oldbalanceDest</th>\n",
       "      <th>newbalanceDest</th>\n",
       "      <th>isFraud</th>\n",
       "    </tr>\n",
       "  </thead>\n",
       "  <tbody>\n",
       "    <tr>\n",
       "      <th>2961264</th>\n",
       "      <td>0</td>\n",
       "      <td>28419.23</td>\n",
       "      <td>649143284</td>\n",
       "      <td>0.00</td>\n",
       "      <td>0.0</td>\n",
       "      <td>147873.96</td>\n",
       "      <td>176293.19</td>\n",
       "      <td>0</td>\n",
       "    </tr>\n",
       "    <tr>\n",
       "      <th>6078633</th>\n",
       "      <td>0</td>\n",
       "      <td>130163.78</td>\n",
       "      <td>1016236296</td>\n",
       "      <td>0.00</td>\n",
       "      <td>0.0</td>\n",
       "      <td>668888.58</td>\n",
       "      <td>799052.36</td>\n",
       "      <td>0</td>\n",
       "    </tr>\n",
       "    <tr>\n",
       "      <th>1358078</th>\n",
       "      <td>0</td>\n",
       "      <td>24651.75</td>\n",
       "      <td>739286350</td>\n",
       "      <td>1319.00</td>\n",
       "      <td>0.0</td>\n",
       "      <td>53227.47</td>\n",
       "      <td>77879.22</td>\n",
       "      <td>0</td>\n",
       "    </tr>\n",
       "    <tr>\n",
       "      <th>659334</th>\n",
       "      <td>0</td>\n",
       "      <td>106639.42</td>\n",
       "      <td>1147313733</td>\n",
       "      <td>15500.00</td>\n",
       "      <td>0.0</td>\n",
       "      <td>259914.24</td>\n",
       "      <td>285559.85</td>\n",
       "      <td>0</td>\n",
       "    </tr>\n",
       "    <tr>\n",
       "      <th>864191</th>\n",
       "      <td>0</td>\n",
       "      <td>346879.03</td>\n",
       "      <td>590550378</td>\n",
       "      <td>0.00</td>\n",
       "      <td>0.0</td>\n",
       "      <td>465053.94</td>\n",
       "      <td>997401.73</td>\n",
       "      <td>0</td>\n",
       "    </tr>\n",
       "    <tr>\n",
       "      <th>...</th>\n",
       "      <td>...</td>\n",
       "      <td>...</td>\n",
       "      <td>...</td>\n",
       "      <td>...</td>\n",
       "      <td>...</td>\n",
       "      <td>...</td>\n",
       "      <td>...</td>\n",
       "      <td>...</td>\n",
       "    </tr>\n",
       "    <tr>\n",
       "      <th>6362610</th>\n",
       "      <td>1</td>\n",
       "      <td>63416.99</td>\n",
       "      <td>778071008</td>\n",
       "      <td>63416.99</td>\n",
       "      <td>0.0</td>\n",
       "      <td>0.00</td>\n",
       "      <td>0.00</td>\n",
       "      <td>1</td>\n",
       "    </tr>\n",
       "    <tr>\n",
       "      <th>6362612</th>\n",
       "      <td>1</td>\n",
       "      <td>1258818.82</td>\n",
       "      <td>1531301470</td>\n",
       "      <td>1258818.82</td>\n",
       "      <td>0.0</td>\n",
       "      <td>0.00</td>\n",
       "      <td>0.00</td>\n",
       "      <td>1</td>\n",
       "    </tr>\n",
       "    <tr>\n",
       "      <th>6362614</th>\n",
       "      <td>1</td>\n",
       "      <td>339682.13</td>\n",
       "      <td>2013999242</td>\n",
       "      <td>339682.13</td>\n",
       "      <td>0.0</td>\n",
       "      <td>0.00</td>\n",
       "      <td>0.00</td>\n",
       "      <td>1</td>\n",
       "    </tr>\n",
       "    <tr>\n",
       "      <th>6362616</th>\n",
       "      <td>1</td>\n",
       "      <td>6311409.28</td>\n",
       "      <td>1529008245</td>\n",
       "      <td>6311409.28</td>\n",
       "      <td>0.0</td>\n",
       "      <td>0.00</td>\n",
       "      <td>0.00</td>\n",
       "      <td>1</td>\n",
       "    </tr>\n",
       "    <tr>\n",
       "      <th>6362618</th>\n",
       "      <td>1</td>\n",
       "      <td>850002.52</td>\n",
       "      <td>1685995037</td>\n",
       "      <td>850002.52</td>\n",
       "      <td>0.0</td>\n",
       "      <td>0.00</td>\n",
       "      <td>0.00</td>\n",
       "      <td>1</td>\n",
       "    </tr>\n",
       "  </tbody>\n",
       "</table>\n",
       "<p>16910 rows × 8 columns</p>\n",
       "</div>"
      ],
      "text/plain": [
       "         type_num      amount    nameOrig  oldbalanceOrg  newbalanceOrig  \\\n",
       "2961264         0    28419.23   649143284           0.00             0.0   \n",
       "6078633         0   130163.78  1016236296           0.00             0.0   \n",
       "1358078         0    24651.75   739286350        1319.00             0.0   \n",
       "659334          0   106639.42  1147313733       15500.00             0.0   \n",
       "864191          0   346879.03   590550378           0.00             0.0   \n",
       "...           ...         ...         ...            ...             ...   \n",
       "6362610         1    63416.99   778071008       63416.99             0.0   \n",
       "6362612         1  1258818.82  1531301470     1258818.82             0.0   \n",
       "6362614         1   339682.13  2013999242      339682.13             0.0   \n",
       "6362616         1  6311409.28  1529008245     6311409.28             0.0   \n",
       "6362618         1   850002.52  1685995037      850002.52             0.0   \n",
       "\n",
       "         oldbalanceDest  newbalanceDest  isFraud  \n",
       "2961264       147873.96       176293.19        0  \n",
       "6078633       668888.58       799052.36        0  \n",
       "1358078        53227.47        77879.22        0  \n",
       "659334        259914.24       285559.85        0  \n",
       "864191        465053.94       997401.73        0  \n",
       "...                 ...             ...      ...  \n",
       "6362610            0.00            0.00        1  \n",
       "6362612            0.00            0.00        1  \n",
       "6362614            0.00            0.00        1  \n",
       "6362616            0.00            0.00        1  \n",
       "6362618            0.00            0.00        1  \n",
       "\n",
       "[16910 rows x 8 columns]"
      ]
     },
     "execution_count": 23,
     "metadata": {},
     "output_type": "execute_result"
    }
   ],
   "source": [
    "fraud_data"
   ]
  },
  {
   "cell_type": "code",
   "execution_count": 24,
   "id": "57189e3e",
   "metadata": {},
   "outputs": [
    {
     "name": "stdout",
     "output_type": "stream",
     "text": [
      "<class 'pandas.core.frame.DataFrame'>\n",
      "Int64Index: 16910 entries, 2961264 to 6362618\n",
      "Data columns (total 8 columns):\n",
      " #   Column          Non-Null Count  Dtype  \n",
      "---  ------          --------------  -----  \n",
      " 0   type_num        16910 non-null  int32  \n",
      " 1   amount          16910 non-null  float64\n",
      " 2   nameOrig        16910 non-null  int64  \n",
      " 3   oldbalanceOrg   16910 non-null  float64\n",
      " 4   newbalanceOrig  16910 non-null  float64\n",
      " 5   oldbalanceDest  16910 non-null  float64\n",
      " 6   newbalanceDest  16910 non-null  float64\n",
      " 7   isFraud         16910 non-null  int64  \n",
      "dtypes: float64(5), int32(1), int64(2)\n",
      "memory usage: 1.1 MB\n"
     ]
    }
   ],
   "source": [
    "fraud_data.info()"
   ]
  },
  {
   "cell_type": "code",
   "execution_count": 25,
   "id": "3ca97b69",
   "metadata": {},
   "outputs": [],
   "source": [
    "fraud_data.to_csv('fraud_data_final.csv')"
   ]
  },
  {
   "cell_type": "code",
   "execution_count": 26,
   "id": "27b18488",
   "metadata": {},
   "outputs": [
    {
     "data": {
      "text/html": [
       "<div>\n",
       "<style scoped>\n",
       "    .dataframe tbody tr th:only-of-type {\n",
       "        vertical-align: middle;\n",
       "    }\n",
       "\n",
       "    .dataframe tbody tr th {\n",
       "        vertical-align: top;\n",
       "    }\n",
       "\n",
       "    .dataframe thead th {\n",
       "        text-align: right;\n",
       "    }\n",
       "</style>\n",
       "<table border=\"1\" class=\"dataframe\">\n",
       "  <thead>\n",
       "    <tr style=\"text-align: right;\">\n",
       "      <th></th>\n",
       "      <th>type_num</th>\n",
       "      <th>amount</th>\n",
       "      <th>nameOrig</th>\n",
       "      <th>oldbalanceOrg</th>\n",
       "      <th>newbalanceOrig</th>\n",
       "      <th>oldbalanceDest</th>\n",
       "      <th>newbalanceDest</th>\n",
       "      <th>isFraud</th>\n",
       "    </tr>\n",
       "  </thead>\n",
       "  <tbody>\n",
       "    <tr>\n",
       "      <th>count</th>\n",
       "      <td>16910.000000</td>\n",
       "      <td>1.691000e+04</td>\n",
       "      <td>1.691000e+04</td>\n",
       "      <td>1.691000e+04</td>\n",
       "      <td>1.691000e+04</td>\n",
       "      <td>1.691000e+04</td>\n",
       "      <td>1.691000e+04</td>\n",
       "      <td>16910.000000</td>\n",
       "    </tr>\n",
       "    <tr>\n",
       "      <th>mean</th>\n",
       "      <td>0.492431</td>\n",
       "      <td>9.753199e+05</td>\n",
       "      <td>1.078867e+09</td>\n",
       "      <td>8.226803e+05</td>\n",
       "      <td>9.983162e+04</td>\n",
       "      <td>1.314588e+06</td>\n",
       "      <td>1.952023e+06</td>\n",
       "      <td>0.485689</td>\n",
       "    </tr>\n",
       "    <tr>\n",
       "      <th>std</th>\n",
       "      <td>0.499957</td>\n",
       "      <td>1.979231e+06</td>\n",
       "      <td>6.207252e+08</td>\n",
       "      <td>2.601141e+06</td>\n",
       "      <td>1.373949e+06</td>\n",
       "      <td>4.246366e+06</td>\n",
       "      <td>4.920873e+06</td>\n",
       "      <td>0.499810</td>\n",
       "    </tr>\n",
       "    <tr>\n",
       "      <th>min</th>\n",
       "      <td>0.000000</td>\n",
       "      <td>0.000000e+00</td>\n",
       "      <td>1.453640e+05</td>\n",
       "      <td>0.000000e+00</td>\n",
       "      <td>0.000000e+00</td>\n",
       "      <td>0.000000e+00</td>\n",
       "      <td>0.000000e+00</td>\n",
       "      <td>0.000000</td>\n",
       "    </tr>\n",
       "    <tr>\n",
       "      <th>25%</th>\n",
       "      <td>0.000000</td>\n",
       "      <td>1.136146e+05</td>\n",
       "      <td>5.417227e+08</td>\n",
       "      <td>0.000000e+00</td>\n",
       "      <td>0.000000e+00</td>\n",
       "      <td>0.000000e+00</td>\n",
       "      <td>1.377643e+04</td>\n",
       "      <td>0.000000</td>\n",
       "    </tr>\n",
       "    <tr>\n",
       "      <th>50%</th>\n",
       "      <td>0.000000</td>\n",
       "      <td>2.892364e+05</td>\n",
       "      <td>1.080607e+09</td>\n",
       "      <td>5.758867e+04</td>\n",
       "      <td>0.000000e+00</td>\n",
       "      <td>1.620005e+05</td>\n",
       "      <td>5.927651e+05</td>\n",
       "      <td>0.000000</td>\n",
       "    </tr>\n",
       "    <tr>\n",
       "      <th>75%</th>\n",
       "      <td>1.000000</td>\n",
       "      <td>8.371839e+05</td>\n",
       "      <td>1.615770e+09</td>\n",
       "      <td>4.449927e+05</td>\n",
       "      <td>0.000000e+00</td>\n",
       "      <td>1.120136e+06</td>\n",
       "      <td>2.045703e+06</td>\n",
       "      <td>1.000000</td>\n",
       "    </tr>\n",
       "    <tr>\n",
       "      <th>max</th>\n",
       "      <td>1.000000</td>\n",
       "      <td>4.872410e+07</td>\n",
       "      <td>2.147314e+09</td>\n",
       "      <td>5.958504e+07</td>\n",
       "      <td>4.958504e+07</td>\n",
       "      <td>2.362305e+08</td>\n",
       "      <td>2.367265e+08</td>\n",
       "      <td>1.000000</td>\n",
       "    </tr>\n",
       "  </tbody>\n",
       "</table>\n",
       "</div>"
      ],
      "text/plain": [
       "           type_num        amount      nameOrig  oldbalanceOrg  \\\n",
       "count  16910.000000  1.691000e+04  1.691000e+04   1.691000e+04   \n",
       "mean       0.492431  9.753199e+05  1.078867e+09   8.226803e+05   \n",
       "std        0.499957  1.979231e+06  6.207252e+08   2.601141e+06   \n",
       "min        0.000000  0.000000e+00  1.453640e+05   0.000000e+00   \n",
       "25%        0.000000  1.136146e+05  5.417227e+08   0.000000e+00   \n",
       "50%        0.000000  2.892364e+05  1.080607e+09   5.758867e+04   \n",
       "75%        1.000000  8.371839e+05  1.615770e+09   4.449927e+05   \n",
       "max        1.000000  4.872410e+07  2.147314e+09   5.958504e+07   \n",
       "\n",
       "       newbalanceOrig  oldbalanceDest  newbalanceDest       isFraud  \n",
       "count    1.691000e+04    1.691000e+04    1.691000e+04  16910.000000  \n",
       "mean     9.983162e+04    1.314588e+06    1.952023e+06      0.485689  \n",
       "std      1.373949e+06    4.246366e+06    4.920873e+06      0.499810  \n",
       "min      0.000000e+00    0.000000e+00    0.000000e+00      0.000000  \n",
       "25%      0.000000e+00    0.000000e+00    1.377643e+04      0.000000  \n",
       "50%      0.000000e+00    1.620005e+05    5.927651e+05      0.000000  \n",
       "75%      0.000000e+00    1.120136e+06    2.045703e+06      1.000000  \n",
       "max      4.958504e+07    2.362305e+08    2.367265e+08      1.000000  "
      ]
     },
     "execution_count": 26,
     "metadata": {},
     "output_type": "execute_result"
    }
   ],
   "source": [
    "fraud_data.describe()"
   ]
  },
  {
   "cell_type": "code",
   "execution_count": 27,
   "id": "ac99f20e",
   "metadata": {},
   "outputs": [],
   "source": [
    "# Assigning values\n",
    "X = fraud_data.iloc[:, :-1].values\n",
    "y = fraud_data.iloc[:, -1].values"
   ]
  },
  {
   "cell_type": "code",
   "execution_count": 28,
   "id": "248ac4fe",
   "metadata": {},
   "outputs": [
    {
     "data": {
      "text/plain": [
       "array([[0.00000000e+00, 2.84192300e+04, 6.49143284e+08, ...,\n",
       "        0.00000000e+00, 1.47873960e+05, 1.76293190e+05],\n",
       "       [0.00000000e+00, 1.30163780e+05, 1.01623630e+09, ...,\n",
       "        0.00000000e+00, 6.68888580e+05, 7.99052360e+05],\n",
       "       [0.00000000e+00, 2.46517500e+04, 7.39286350e+08, ...,\n",
       "        0.00000000e+00, 5.32274700e+04, 7.78792200e+04],\n",
       "       ...,\n",
       "       [1.00000000e+00, 3.39682130e+05, 2.01399924e+09, ...,\n",
       "        0.00000000e+00, 0.00000000e+00, 0.00000000e+00],\n",
       "       [1.00000000e+00, 6.31140928e+06, 1.52900824e+09, ...,\n",
       "        0.00000000e+00, 0.00000000e+00, 0.00000000e+00],\n",
       "       [1.00000000e+00, 8.50002520e+05, 1.68599504e+09, ...,\n",
       "        0.00000000e+00, 0.00000000e+00, 0.00000000e+00]])"
      ]
     },
     "execution_count": 28,
     "metadata": {},
     "output_type": "execute_result"
    }
   ],
   "source": [
    "X"
   ]
  },
  {
   "cell_type": "code",
   "execution_count": 29,
   "id": "eca9dc83",
   "metadata": {},
   "outputs": [
    {
     "data": {
      "text/plain": [
       "array([0, 0, 0, ..., 1, 1, 1], dtype=int64)"
      ]
     },
     "execution_count": 29,
     "metadata": {},
     "output_type": "execute_result"
    }
   ],
   "source": [
    "y"
   ]
  },
  {
   "cell_type": "markdown",
   "id": "f7e08948",
   "metadata": {},
   "source": [
    "### Splitting data into train and test set and also apply Feature Scaling"
   ]
  },
  {
   "cell_type": "code",
   "execution_count": 30,
   "id": "c66222d0",
   "metadata": {},
   "outputs": [],
   "source": [
    "# Splitting the dataset into the Training set and Test set\n",
    "from sklearn.model_selection import train_test_split\n",
    "X_train, X_test, y_train, y_test = train_test_split(X, y, test_size = 0.25, random_state = 0)"
   ]
  },
  {
   "cell_type": "code",
   "execution_count": 31,
   "id": "3fe29a69",
   "metadata": {},
   "outputs": [],
   "source": [
    "# Feature Scaling\n",
    "from sklearn.preprocessing import StandardScaler\n",
    "sc = StandardScaler()\n",
    "X_train = sc.fit_transform(X_train)\n",
    "X_test = sc.transform(X_test)"
   ]
  },
  {
   "cell_type": "markdown",
   "id": "fcc39995",
   "metadata": {},
   "source": [
    "### Training the Logistic Regression Model on training set"
   ]
  },
  {
   "cell_type": "code",
   "execution_count": 32,
   "id": "07fcce4e",
   "metadata": {},
   "outputs": [
    {
     "data": {
      "text/plain": [
       "LogisticRegression(random_state=0)"
      ]
     },
     "execution_count": 32,
     "metadata": {},
     "output_type": "execute_result"
    }
   ],
   "source": [
    "# Training the Logistic Regression model on the Training set\n",
    "from sklearn.linear_model import LogisticRegression\n",
    "lr = LogisticRegression(random_state = 0)\n",
    "lr.fit(X_train, y_train)"
   ]
  },
  {
   "cell_type": "code",
   "execution_count": 33,
   "id": "df1bd88f",
   "metadata": {},
   "outputs": [
    {
     "name": "stdout",
     "output_type": "stream",
     "text": [
      "[[1 1]\n",
      " [1 1]\n",
      " [1 1]\n",
      " ...\n",
      " [1 1]\n",
      " [0 0]\n",
      " [0 0]]\n",
      "[1 1 1 ... 1 0 0]\n"
     ]
    }
   ],
   "source": [
    "y_pred = lr.predict(X_test)\n",
    "print(np.concatenate((y_pred.reshape(len(y_pred),1), y_test.reshape(len(y_test),1)), 1))\n",
    "print(y_pred)"
   ]
  },
  {
   "cell_type": "markdown",
   "id": "0b196099",
   "metadata": {},
   "source": [
    "#### Making the Confusion Matrix"
   ]
  },
  {
   "cell_type": "code",
   "execution_count": 34,
   "id": "fab4ac61",
   "metadata": {},
   "outputs": [
    {
     "name": "stdout",
     "output_type": "stream",
     "text": [
      "[[2028  127]\n",
      " [ 300 1773]]\n",
      "Accuracy of model: 0.8990066225165563\n"
     ]
    }
   ],
   "source": [
    "# Making the Confusion Matrix\n",
    "from sklearn.metrics import confusion_matrix, accuracy_score, recall_score, f1_score, precision_score\n",
    "cm = confusion_matrix(y_test, y_pred)\n",
    "print(cm)\n",
    "print(f\"Accuracy of model: {accuracy_score(y_test, y_pred)}\")"
   ]
  },
  {
   "cell_type": "markdown",
   "id": "ff548a35",
   "metadata": {},
   "source": [
    "#### Recall Calculation"
   ]
  },
  {
   "cell_type": "code",
   "execution_count": 35,
   "id": "ef45a96f",
   "metadata": {},
   "outputs": [
    {
     "name": "stdout",
     "output_type": "stream",
     "text": [
      "Recall Score of model: 0.8552821997105644\n"
     ]
    }
   ],
   "source": [
    "# Recall = TruePositives / (TruePositives + FalseNegatives)\n",
    "print(f\"Recall Score of model: {recall_score(y_test, y_pred)}\")"
   ]
  },
  {
   "cell_type": "markdown",
   "id": "8bd84679",
   "metadata": {},
   "source": [
    "#### F1 Score Calculation"
   ]
  },
  {
   "cell_type": "code",
   "execution_count": 36,
   "id": "6e6fb32d",
   "metadata": {},
   "outputs": [
    {
     "name": "stdout",
     "output_type": "stream",
     "text": [
      "F1 Score of model: 0.8925245406493834\n"
     ]
    }
   ],
   "source": [
    "# 2*true positive /( 2*true positive + false positive + false negative)\n",
    "print(f\"F1 Score of model: {f1_score(y_test, y_pred)}\")"
   ]
  },
  {
   "cell_type": "markdown",
   "id": "1652590f",
   "metadata": {},
   "source": [
    "### Training on SVM"
   ]
  },
  {
   "cell_type": "code",
   "execution_count": 37,
   "id": "eb2c6eb1",
   "metadata": {},
   "outputs": [
    {
     "data": {
      "text/plain": [
       "SVC(kernel='linear', random_state=0)"
      ]
     },
     "execution_count": 37,
     "metadata": {},
     "output_type": "execute_result"
    }
   ],
   "source": [
    "from sklearn.svm import SVC\n",
    "classifier = SVC(kernel = 'linear', random_state = 0)\n",
    "classifier.fit(X_train, y_train)"
   ]
  },
  {
   "cell_type": "code",
   "execution_count": 38,
   "id": "7e4d121e",
   "metadata": {},
   "outputs": [
    {
     "name": "stdout",
     "output_type": "stream",
     "text": [
      "[[1 1]\n",
      " [1 1]\n",
      " [1 1]\n",
      " ...\n",
      " [1 1]\n",
      " [0 0]\n",
      " [0 0]]\n",
      "[1 1 1 ... 1 0 0]\n"
     ]
    }
   ],
   "source": [
    "y_pred = classifier.predict(X_test)\n",
    "print(np.concatenate((y_pred.reshape(len(y_pred),1), y_test.reshape(len(y_test),1)), 1))\n",
    "print(y_pred)"
   ]
  },
  {
   "cell_type": "code",
   "execution_count": 39,
   "id": "32abb66d",
   "metadata": {},
   "outputs": [
    {
     "name": "stdout",
     "output_type": "stream",
     "text": [
      "[[2030  125]\n",
      " [ 304 1769]]\n",
      "Accuracy of model: 0.8985335856196783\n"
     ]
    }
   ],
   "source": [
    "# Making the Confusion Matrix\n",
    "from sklearn.metrics import confusion_matrix, accuracy_score, recall_score, f1_score, precision_score\n",
    "y_pred = classifier.predict(X_test)\n",
    "cm = confusion_matrix(y_test, y_pred)\n",
    "print(cm)\n",
    "print(f\"Accuracy of model: {accuracy_score(y_test, y_pred)}\")"
   ]
  },
  {
   "cell_type": "code",
   "execution_count": 40,
   "id": "ef2ffef0",
   "metadata": {},
   "outputs": [
    {
     "name": "stdout",
     "output_type": "stream",
     "text": [
      "Recall Score of model: 0.8533526290400386\n"
     ]
    }
   ],
   "source": [
    "# Recall = TruePositives / (TruePositives + FalseNegatives)\n",
    "print(f\"Recall Score of model: {recall_score(y_test, y_pred)}\")"
   ]
  },
  {
   "cell_type": "code",
   "execution_count": 41,
   "id": "71b30fdd",
   "metadata": {},
   "outputs": [
    {
     "name": "stdout",
     "output_type": "stream",
     "text": [
      "F1 Score of model: 0.8918578270733551\n"
     ]
    }
   ],
   "source": [
    "# 2*true positive /( 2*true positive + false positive + false negative)\n",
    "print(f\"F1 Score of model: {f1_score(y_test, y_pred)}\")"
   ]
  },
  {
   "cell_type": "markdown",
   "id": "226f4a80",
   "metadata": {},
   "source": [
    "### Training on Naive bayes"
   ]
  },
  {
   "cell_type": "code",
   "execution_count": 42,
   "id": "1cda9b05",
   "metadata": {},
   "outputs": [
    {
     "data": {
      "text/plain": [
       "GaussianNB()"
      ]
     },
     "execution_count": 42,
     "metadata": {},
     "output_type": "execute_result"
    }
   ],
   "source": [
    "from sklearn.naive_bayes import GaussianNB\n",
    "bayes = GaussianNB()\n",
    "bayes.fit(X_train, y_train)"
   ]
  },
  {
   "cell_type": "code",
   "execution_count": 43,
   "id": "f1110274",
   "metadata": {},
   "outputs": [
    {
     "name": "stdout",
     "output_type": "stream",
     "text": [
      "[[1 1]\n",
      " [1 1]\n",
      " [1 1]\n",
      " ...\n",
      " [1 1]\n",
      " [0 0]\n",
      " [0 0]]\n",
      "[1 1 1 ... 1 0 0]\n"
     ]
    }
   ],
   "source": [
    "y_pred = bayes.predict(X_test)\n",
    "print(np.concatenate((y_pred.reshape(len(y_pred),1), y_test.reshape(len(y_test),1)), 1))\n",
    "print(y_pred)"
   ]
  },
  {
   "cell_type": "code",
   "execution_count": 44,
   "id": "eda519dc",
   "metadata": {},
   "outputs": [
    {
     "name": "stdout",
     "output_type": "stream",
     "text": [
      "[[2094   61]\n",
      " [1062 1011]]\n",
      "Accuracy of model: 0.7343897824030274\n"
     ]
    }
   ],
   "source": [
    "# Making the Confusion Matrix\n",
    "from sklearn.metrics import confusion_matrix, accuracy_score, recall_score, f1_score, precision_score\n",
    "cm = confusion_matrix(y_test, y_pred)\n",
    "print(cm)\n",
    "print(f\"Accuracy of model: {accuracy_score(y_test, y_pred)}\")"
   ]
  },
  {
   "cell_type": "code",
   "execution_count": 45,
   "id": "ae396d4b",
   "metadata": {},
   "outputs": [
    {
     "name": "stdout",
     "output_type": "stream",
     "text": [
      "Recall Score of model: 0.487698986975398\n"
     ]
    }
   ],
   "source": [
    "# Recall = TruePositives / (TruePositives + FalseNegatives)\n",
    "print(f\"Recall Score of model: {recall_score(y_test, y_pred)}\")"
   ]
  },
  {
   "cell_type": "code",
   "execution_count": 46,
   "id": "b80e7fb4",
   "metadata": {},
   "outputs": [
    {
     "name": "stdout",
     "output_type": "stream",
     "text": [
      "F1 Score of model: 0.6429252782193958\n"
     ]
    }
   ],
   "source": [
    "# 2*true positive /( 2*true positive + false positive + false negative)\n",
    "print(f\"F1 Score of model: {f1_score(y_test, y_pred)}\")"
   ]
  },
  {
   "cell_type": "markdown",
   "id": "1a27efc5",
   "metadata": {},
   "source": [
    "### Decision Tree"
   ]
  },
  {
   "cell_type": "code",
   "execution_count": 47,
   "id": "eccbf603",
   "metadata": {},
   "outputs": [
    {
     "data": {
      "image/png": "[encoded data removed]",
      "text/plain": [
       "<Figure size 1152x720 with 1 Axes>"
      ]
     },
     "metadata": {
      "needs_background": "light"
     },
     "output_type": "display_data"
    }
   ],
   "source": [
    "# Training the Decision Tree Classification model on the Training set\n",
    "from sklearn.tree import DecisionTreeClassifier\n",
    "from sklearn import tree\n",
    "dr = DecisionTreeClassifier(criterion = 'entropy', random_state = 0)\n",
    "dr.fit(X_train, y_train)\n",
    "fig = plt.figure(figsize=(16,10))\n",
    "tree.plot_tree(dr, filled=True)\n",
    "plt.title(\"Decision tree trained on all the fraud data\")\n",
    "plt.show()"
   ]
  },
  {
   "cell_type": "code",
   "execution_count": 48,
   "id": "0608b115",
   "metadata": {},
   "outputs": [],
   "source": [
    "# fig.savefig(\"decistion_tree.png\")"
   ]
  },
  {
   "cell_type": "code",
   "execution_count": 49,
   "id": "3963cef9",
   "metadata": {},
   "outputs": [
    {
     "name": "stdout",
     "output_type": "stream",
     "text": [
      "[[1 1]\n",
      " [1 1]\n",
      " [1 1]\n",
      " ...\n",
      " [1 1]\n",
      " [0 0]\n",
      " [0 0]]\n"
     ]
    }
   ],
   "source": [
    "y_pred = dr.predict(X_test)\n",
    "print(np.concatenate((y_pred.reshape(len(y_pred),1), y_test.reshape(len(y_test),1)),1))"
   ]
  },
  {
   "cell_type": "code",
   "execution_count": 50,
   "id": "4feea251",
   "metadata": {},
   "outputs": [
    {
     "name": "stdout",
     "output_type": "stream",
     "text": [
      "[[2135   20]\n",
      " [  23 2050]]\n",
      "Accuracy of model: 0.9898297067171239\n"
     ]
    }
   ],
   "source": [
    "# Making the Confusion Matrix\n",
    "from sklearn.metrics import confusion_matrix, accuracy_score, recall_score, f1_score, precision_score\n",
    "cm = confusion_matrix(y_test, y_pred)\n",
    "print(cm)\n",
    "print(f\"Accuracy of model: {accuracy_score(y_test, y_pred)}\")"
   ]
  },
  {
   "cell_type": "code",
   "execution_count": 51,
   "id": "faa63a30",
   "metadata": {},
   "outputs": [
    {
     "name": "stdout",
     "output_type": "stream",
     "text": [
      "Recall Score of model: 0.9889049686444766\n"
     ]
    }
   ],
   "source": [
    "# Recall = TruePositives / (TruePositives + FalseNegatives)\n",
    "print(f\"Recall Score of model: {recall_score(y_test, y_pred)}\")"
   ]
  },
  {
   "cell_type": "code",
   "execution_count": 52,
   "id": "d772addd",
   "metadata": {},
   "outputs": [
    {
     "name": "stdout",
     "output_type": "stream",
     "text": [
      "F1 Score of model: 0.9896210475500845\n"
     ]
    }
   ],
   "source": [
    "# 2*true positive /( 2*true positive + false positive + false negative)\n",
    "print(f\"F1 Score of model: {f1_score(y_test, y_pred)}\")"
   ]
  },
  {
   "cell_type": "markdown",
   "id": "5e832f94",
   "metadata": {},
   "source": [
    "### Random Forest"
   ]
  },
  {
   "cell_type": "code",
   "execution_count": 53,
   "id": "3c5e6189",
   "metadata": {},
   "outputs": [
    {
     "data": {
      "text/plain": [
       "RandomForestClassifier(criterion='entropy', n_estimators=25, random_state=0)"
      ]
     },
     "execution_count": 53,
     "metadata": {},
     "output_type": "execute_result"
    }
   ],
   "source": [
    "from sklearn.ensemble import RandomForestClassifier\n",
    "rf = RandomForestClassifier(n_estimators = 25, criterion = 'entropy', random_state = 0)\n",
    "rf.fit(X_train, y_train)"
   ]
  },
  {
   "cell_type": "code",
   "execution_count": 54,
   "id": "cb3ca7cd",
   "metadata": {},
   "outputs": [
    {
     "name": "stdout",
     "output_type": "stream",
     "text": [
      "[[1 1]\n",
      " [1 1]\n",
      " [1 1]\n",
      " ...\n",
      " [1 1]\n",
      " [0 0]\n",
      " [0 0]]\n"
     ]
    }
   ],
   "source": [
    "y_pred = rf.predict(X_test)\n",
    "print(np.concatenate((y_pred.reshape(len(y_pred),1), y_test.reshape(len(y_test),1)),1))"
   ]
  },
  {
   "cell_type": "code",
   "execution_count": 55,
   "id": "c2a107e0",
   "metadata": {},
   "outputs": [
    {
     "name": "stdout",
     "output_type": "stream",
     "text": [
      "[[2120   35]\n",
      " [  13 2060]]\n",
      "Accuracy of model: 0.988647114474929\n"
     ]
    }
   ],
   "source": [
    "# Making the Confusion Matrix\n",
    "from sklearn.metrics import confusion_matrix, accuracy_score, recall_score, f1_score, precision_score\n",
    "cm = confusion_matrix(y_test, y_pred)\n",
    "print(cm)\n",
    "print(f\"Accuracy of model: {accuracy_score(y_test, y_pred)}\")"
   ]
  },
  {
   "cell_type": "code",
   "execution_count": 56,
   "id": "a9375378",
   "metadata": {},
   "outputs": [
    {
     "name": "stdout",
     "output_type": "stream",
     "text": [
      "Recall Score of model: 0.9937288953207911\n"
     ]
    }
   ],
   "source": [
    "# Recall = TruePositives / (TruePositives + FalseNegatives)\n",
    "print(f\"Recall Score of model: {recall_score(y_test, y_pred)}\")"
   ]
  },
  {
   "cell_type": "code",
   "execution_count": 57,
   "id": "665023ed",
   "metadata": {},
   "outputs": [
    {
     "name": "stdout",
     "output_type": "stream",
     "text": [
      "F1 Score of model: 0.9884836852207294\n"
     ]
    }
   ],
   "source": [
    "# 2*true positive /( 2*true positive + false positive + false negative)\n",
    "print(f\"F1 Score of model: {f1_score(y_test, y_pred)}\")"
   ]
  },
  {
   "cell_type": "markdown",
   "id": "5624866d",
   "metadata": {},
   "source": [
    "### Training with Kernel SVM"
   ]
  },
  {
   "cell_type": "code",
   "execution_count": 58,
   "id": "05ba30bc",
   "metadata": {},
   "outputs": [
    {
     "data": {
      "text/plain": [
       "SVC(random_state=0)"
      ]
     },
     "execution_count": 58,
     "metadata": {},
     "output_type": "execute_result"
    }
   ],
   "source": [
    "from sklearn.svm import SVC\n",
    "kernel_svm = SVC(kernel = 'rbf', random_state = 0)\n",
    "kernel_svm.fit(X_train, y_train)"
   ]
  },
  {
   "cell_type": "code",
   "execution_count": 59,
   "id": "ec42bcad",
   "metadata": {},
   "outputs": [
    {
     "name": "stdout",
     "output_type": "stream",
     "text": [
      "[[1 1]\n",
      " [1 1]\n",
      " [1 1]\n",
      " ...\n",
      " [1 1]\n",
      " [0 0]\n",
      " [0 0]]\n"
     ]
    }
   ],
   "source": [
    "y_pred = kernel_svm.predict(X_test)\n",
    "print(np.concatenate((y_pred.reshape(len(y_pred),1), y_test.reshape(len(y_test),1)),1))"
   ]
  },
  {
   "cell_type": "code",
   "execution_count": 60,
   "id": "679f0b13",
   "metadata": {},
   "outputs": [
    {
     "name": "stdout",
     "output_type": "stream",
     "text": [
      "[[2052  103]\n",
      " [ 384 1689]]\n"
     ]
    },
    {
     "data": {
      "text/plain": [
       "0.8848155156102177"
      ]
     },
     "execution_count": 60,
     "metadata": {},
     "output_type": "execute_result"
    }
   ],
   "source": [
    "from sklearn.metrics import confusion_matrix, accuracy_score, recall_score, f1_score\n",
    "cm = confusion_matrix(y_test, y_pred)\n",
    "print(cm)\n",
    "accuracy_score(y_test, y_pred)"
   ]
  },
  {
   "cell_type": "code",
   "execution_count": 61,
   "id": "a53b51ed",
   "metadata": {},
   "outputs": [
    {
     "name": "stdout",
     "output_type": "stream",
     "text": [
      "Recall Score of model: 0.8147612156295224\n"
     ]
    }
   ],
   "source": [
    "# Recall = TruePositives / (TruePositives + FalseNegatives)\n",
    "print(f\"Recall Score of model: {recall_score(y_test, y_pred)}\")"
   ]
  },
  {
   "cell_type": "code",
   "execution_count": 62,
   "id": "162a8247",
   "metadata": {},
   "outputs": [
    {
     "name": "stdout",
     "output_type": "stream",
     "text": [
      "F1 Score of model: 0.8739974126778784\n"
     ]
    }
   ],
   "source": [
    "# 2*true positive /( 2*true positive + false positive + false negative)\n",
    "print(f\"F1 Score of model: {f1_score(y_test, y_pred)}\")"
   ]
  },
  {
   "cell_type": "markdown",
   "id": "9f5525ec",
   "metadata": {},
   "source": [
    "### Our Model Analysis"
   ]
  },
  {
   "cell_type": "markdown",
   "id": "9ec1e3aa",
   "metadata": {},
   "source": [
    "*   Decision Tree Classifier showed the highest recall, accuracyy and F1 score when compared to others:\n",
    "*   **Recall - 99.1799 % | Acc - 99.124 % | f1 - 99.108 %**\n",
    "*   **Rejecting other networks because:**\n",
    "*   Neural Networks are rejected because it obviously takes a LOT of training time & computation power\n",
    "*   Performance of other models that were tested are:\n",
    " ________________________________________________\n",
    "| Model               |  Recall(%)  |  F1(%)     |\n",
    "|---------------------|-------------|----------- |\n",
    "| **Decision Tree**   | **99.1799** | **99.108** |\n",
    "| Logistic Regression |   85.721    |   88.7021  |\n",
    "| SVM                 |   84.02     |   88       |\n",
    "| Naive bayes         |   46        |   88       |\n",
    "| Kernel SVM          |   81.478    |   87.06    |\n",
    "-------------------------------------------------"
   ]
  },
  {
   "cell_type": "markdown",
   "id": "da530e38",
   "metadata": {},
   "source": [
    "### Predicting a single input"
   ]
  },
  {
   "cell_type": "code",
   "execution_count": 63,
   "id": "17815608",
   "metadata": {},
   "outputs": [
    {
     "name": "stdout",
     "output_type": "stream",
     "text": [
      "[0 0 0 0 0]\n"
     ]
    }
   ],
   "source": [
    "# type_num\tamount\tnameOrig\toldbalanceOrg\tnewbalanceOrig\toldbalanceDest\tnewbalanceDest\n",
    "# print(classifier.predict(sc.transform([[0,74445.62,1796046115,0.00,0.0,1371784.99,1446230.61]])))\n",
    "\n",
    "print(dr.predict([[1,34518.82,356646316,0.0,0.0,851831.14,886349.96],\n",
    "               [1,278568.31,912325874,0.0,0.0,641896.48,920464.79],\n",
    "               [1,475369.51,1184256533,0.0,0.0,1201817.38,1677186.90],\n",
    "               [1,475368.94,916986889,475368.94,0.0,1348026.73,1823395.67],\n",
    "               [1,594471.04,1345990968,594471.04,0.0,1788456.17,2382927.21]]))"
   ]
  },
  {
   "cell_type": "markdown",
   "id": "2f4aa95a",
   "metadata": {},
   "source": [
    "We can see from above prediction that it came up with correct prediction for the above query"
   ]
  },
  {
   "cell_type": "markdown",
   "id": "4018e9fc",
   "metadata": {},
   "source": [
    "### Saving our model"
   ]
  },
  {
   "cell_type": "code",
   "execution_count": 64,
   "id": "e1768963",
   "metadata": {},
   "outputs": [],
   "source": [
    "import pickle\n",
    "\n",
    "# Dumping our model into a file\n",
    "with open('fraud_model4.bin', 'wb') as f_out:\n",
    "    pickle.dump(dr, f_out)"
   ]
  },
  {
   "cell_type": "markdown",
   "id": "bca7092a",
   "metadata": {},
   "source": [
    "### Trying our pickle model"
   ]
  },
  {
   "cell_type": "code",
   "execution_count": 65,
   "id": "3ab79a1e",
   "metadata": {},
   "outputs": [],
   "source": [
    "with open('fraud_model4.bin', 'rb') as f_in:\n",
    "    model = pickle.load(f_in)"
   ]
  },
  {
   "cell_type": "code",
   "execution_count": 66,
   "id": "1a81f32d",
   "metadata": {},
   "outputs": [
    {
     "data": {
      "text/plain": [
       "array([0, 0, 0, 0, 0], dtype=int64)"
      ]
     },
     "execution_count": 66,
     "metadata": {},
     "output_type": "execute_result"
    }
   ],
   "source": [
    "# predicting the single value which we predicted before\n",
    "# predict_mpg(sc.transform([[3, 14650.1, 908817173, 19373.0, 4722.9, 0.0, 0.0,]]), model)\n",
    "\n",
    "model.predict([[1,34518.82,356646316,0.0,0.0,851831.14,886349.96],\n",
    "               [1,278568.31,912325874,0.0,0.0,641896.48,920464.79],\n",
    "               [1,475369.51,1184256533,0.0,0.0,1201817.38,1677186.90],\n",
    "               [1,475368.94,916986889,475368.94,0.0,1348026.73,1823395.67],\n",
    "               [1,594471.04,1345990968,594471.04,0.0,1788456.17,2382927.21]])"
   ]
  },
  {
   "cell_type": "markdown",
   "id": "ac884409",
   "metadata": {},
   "source": [
    "It gives the same result from before, it means our model is working fine"
   ]
  },
  {
   "cell_type": "code",
   "execution_count": null,
   "id": "8d4605e7",
   "metadata": {},
   "outputs": [],
   "source": []
  }
 ],
 "metadata": {
  "kernelspec": {
   "display_name": "Python 3 (ipykernel)",
   "language": "python",
   "name": "python3"
  },
  "language_info": {
   "codemirror_mode": {
    "name": "ipython",
    "version": 3
   },
   "file_extension": ".py",
   "mimetype": "text/x-python",
   "name": "python",
   "nbconvert_exporter": "python",
   "pygments_lexer": "ipython3",
   "version": "3.9.7"
  }
 },
 "nbformat": 4,
 "nbformat_minor": 5
}
